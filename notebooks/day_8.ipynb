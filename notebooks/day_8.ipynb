{
 "cells": [
  {
   "cell_type": "markdown",
   "metadata": {},
   "source": [
    "# Day 8"
   ]
  },
  {
   "cell_type": "code",
   "execution_count": 1,
   "metadata": {},
   "outputs": [
    {
     "data": {
      "text/plain": [
       "\u001b[32mimport \u001b[39m\u001b[36m$ivy.$                               \n",
       "\u001b[39m\n",
       "\u001b[32mimport \u001b[39m\u001b[36mscalaz._\n",
       "\u001b[39m\n",
       "\u001b[32mimport \u001b[39m\u001b[36mScalaz._\u001b[39m"
      ]
     },
     "execution_count": 1,
     "metadata": {},
     "output_type": "execute_result"
    }
   ],
   "source": [
    "import $ivy.`org.scalaz::scalaz-core:7.2.22`\n",
    "import scalaz._\n",
    "import Scalaz._"
   ]
  },
  {
   "cell_type": "markdown",
   "metadata": {},
   "source": [
    "## join メソッド"
   ]
  },
  {
   "cell_type": "code",
   "execution_count": 2,
   "metadata": {},
   "outputs": [
    {
     "data": {
      "text/plain": [
       "\u001b[36mres1\u001b[39m: \u001b[32mOption\u001b[39m[\u001b[32mInt\u001b[39m] = \u001b[33mSome\u001b[39m(\u001b[32m9\u001b[39m)"
      ]
     },
     "execution_count": 2,
     "metadata": {},
     "output_type": "execute_result"
    }
   ],
   "source": [
    "(Some(9.some): Option[Option[Int]]).join"
   ]
  },
  {
   "cell_type": "code",
   "execution_count": 3,
   "metadata": {},
   "outputs": [
    {
     "data": {
      "text/plain": [
       "\u001b[36mres2\u001b[39m: \u001b[32mOption\u001b[39m[\u001b[32mInt\u001b[39m] = None"
      ]
     },
     "execution_count": 3,
     "metadata": {},
     "output_type": "execute_result"
    }
   ],
   "source": [
    "(Some(none): Option[Option[Int]]).join"
   ]
  },
  {
   "cell_type": "code",
   "execution_count": 4,
   "metadata": {},
   "outputs": [
    {
     "data": {
      "text/plain": [
       "\u001b[36mres3\u001b[39m: \u001b[32mList\u001b[39m[\u001b[32mInt\u001b[39m] = \u001b[33mList\u001b[39m(\u001b[32m1\u001b[39m, \u001b[32m2\u001b[39m, \u001b[32m3\u001b[39m, \u001b[32m4\u001b[39m, \u001b[32m5\u001b[39m, \u001b[32m6\u001b[39m)"
      ]
     },
     "execution_count": 4,
     "metadata": {},
     "output_type": "execute_result"
    }
   ],
   "source": [
    "List(List(1, 2, 3), List(4, 5, 6)).join"
   ]
  },
  {
   "cell_type": "code",
   "execution_count": 5,
   "metadata": {},
   "outputs": [
    {
     "data": {
      "text/plain": [
       "\u001b[36mres4\u001b[39m: \u001b[32mString\u001b[39m \u001b[32m\\/\u001b[39m \u001b[32mInt\u001b[39m = \u001b[33m\\/-\u001b[39m(\u001b[32m9\u001b[39m)"
      ]
     },
     "execution_count": 5,
     "metadata": {},
     "output_type": "execute_result"
    }
   ],
   "source": [
    "9.right[String].right[String].join"
   ]
  },
  {
   "cell_type": "code",
   "execution_count": 6,
   "metadata": {},
   "outputs": [
    {
     "data": {
      "text/plain": [
       "\u001b[36mres5\u001b[39m: \u001b[32mString\u001b[39m \u001b[32m\\/\u001b[39m \u001b[32mInt\u001b[39m = \u001b[33m-\\/\u001b[39m(\u001b[32m\"boom\"\u001b[39m)"
      ]
     },
     "execution_count": 6,
     "metadata": {},
     "output_type": "execute_result"
    }
   ],
   "source": [
    "\"boom\".left[Int].right[String].join"
   ]
  },
  {
   "cell_type": "markdown",
   "metadata": {},
   "source": [
    "## filterM メソッド"
   ]
  },
  {
   "cell_type": "code",
   "execution_count": 7,
   "metadata": {},
   "outputs": [
    {
     "data": {
      "text/plain": [
       "\u001b[36mres6\u001b[39m: \u001b[32mList\u001b[39m[\u001b[32mList\u001b[39m[\u001b[32mInt\u001b[39m]] = \u001b[33mList\u001b[39m(\n",
       "  \u001b[33mList\u001b[39m(\u001b[32m1\u001b[39m, \u001b[32m2\u001b[39m, \u001b[32m3\u001b[39m),\n",
       "  \u001b[33mList\u001b[39m(\u001b[32m1\u001b[39m, \u001b[32m2\u001b[39m),\n",
       "  \u001b[33mList\u001b[39m(\u001b[32m1\u001b[39m, \u001b[32m3\u001b[39m),\n",
       "  \u001b[33mList\u001b[39m(\u001b[32m1\u001b[39m),\n",
       "  \u001b[33mList\u001b[39m(\u001b[32m2\u001b[39m, \u001b[32m3\u001b[39m),\n",
       "  \u001b[33mList\u001b[39m(\u001b[32m2\u001b[39m),\n",
       "  \u001b[33mList\u001b[39m(\u001b[32m3\u001b[39m),\n",
       "  \u001b[33mList\u001b[39m()\n",
       ")"
      ]
     },
     "execution_count": 7,
     "metadata": {},
     "output_type": "execute_result"
    }
   ],
   "source": [
    "List(1, 2, 3) filterM { x => List(true, false) }"
   ]
  },
  {
   "cell_type": "code",
   "execution_count": 8,
   "metadata": {},
   "outputs": [
    {
     "data": {
      "text/plain": [
       "\u001b[36mres7\u001b[39m: \u001b[32mVector\u001b[39m[\u001b[32mVector\u001b[39m[\u001b[32mInt\u001b[39m]] = \u001b[33mVector\u001b[39m(\n",
       "  \u001b[33mVector\u001b[39m(\u001b[32m1\u001b[39m, \u001b[32m2\u001b[39m, \u001b[32m3\u001b[39m),\n",
       "  \u001b[33mVector\u001b[39m(\u001b[32m1\u001b[39m, \u001b[32m2\u001b[39m),\n",
       "  \u001b[33mVector\u001b[39m(\u001b[32m1\u001b[39m, \u001b[32m3\u001b[39m),\n",
       "  \u001b[33mVector\u001b[39m(\u001b[32m1\u001b[39m),\n",
       "  \u001b[33mVector\u001b[39m(\u001b[32m2\u001b[39m, \u001b[32m3\u001b[39m),\n",
       "  \u001b[33mVector\u001b[39m(\u001b[32m2\u001b[39m),\n",
       "  \u001b[33mVector\u001b[39m(\u001b[32m3\u001b[39m),\n",
       "  \u001b[33mVector\u001b[39m()\n",
       ")"
      ]
     },
     "execution_count": 8,
     "metadata": {},
     "output_type": "execute_result"
    }
   ],
   "source": [
    "Vector(1, 2, 3) filterM { x => Vector(true, false) }"
   ]
  },
  {
   "cell_type": "markdown",
   "metadata": {},
   "source": [
    "## foldLeftM メソッド"
   ]
  },
  {
   "cell_type": "code",
   "execution_count": 10,
   "metadata": {},
   "outputs": [
    {
     "data": {
      "text/plain": [
       "defined \u001b[32mfunction\u001b[39m \u001b[36mbinSmalls\u001b[39m"
      ]
     },
     "execution_count": 10,
     "metadata": {},
     "output_type": "execute_result"
    }
   ],
   "source": [
    "def binSmalls(acc: Int, x: Int): Option[Int] = {\n",
    "    if (x > 9) (none: Option[Int])\n",
    "    else (acc + x).some\n",
    "}"
   ]
  },
  {
   "cell_type": "code",
   "execution_count": 11,
   "metadata": {},
   "outputs": [
    {
     "data": {
      "text/plain": [
       "\u001b[36mres10\u001b[39m: \u001b[32mOption\u001b[39m[\u001b[32mInt\u001b[39m] = \u001b[33mSome\u001b[39m(\u001b[32m14\u001b[39m)"
      ]
     },
     "execution_count": 11,
     "metadata": {},
     "output_type": "execute_result"
    }
   ],
   "source": [
    "List(2, 8, 3, 1).foldLeftM(0) {binSmalls}"
   ]
  },
  {
   "cell_type": "code",
   "execution_count": 12,
   "metadata": {},
   "outputs": [
    {
     "data": {
      "text/plain": [
       "\u001b[36mres11\u001b[39m: \u001b[32mOption\u001b[39m[\u001b[32mInt\u001b[39m] = None"
      ]
     },
     "execution_count": 12,
     "metadata": {},
     "output_type": "execute_result"
    }
   ],
   "source": [
    "List(2, 11, 3, 1).foldLeftM(0) {binSmalls}"
   ]
  },
  {
   "cell_type": "markdown",
   "metadata": {},
   "source": [
    "## 安全な RPN 電卓を作ろう"
   ]
  },
  {
   "cell_type": "code",
   "execution_count": 13,
   "metadata": {},
   "outputs": [
    {
     "data": {
      "text/plain": [
       "defined \u001b[32mfunction\u001b[39m \u001b[36mfoldingFunction\u001b[39m"
      ]
     },
     "execution_count": 13,
     "metadata": {},
     "output_type": "execute_result"
    }
   ],
   "source": [
    "def foldingFunction(list: List[Double], next: String): List[Double] = (list, next) match {\n",
    "    case (x :: y :: ys, \"*\") => (y * x) :: ys\n",
    "    case (x :: y :: ys, \"+\") => (y + x) :: ys\n",
    "    case (x :: y :: ys, \"-\") => (y - x) :: ys\n",
    "    case (xs, numString) => numString.toInt :: xs\n",
    "}"
   ]
  },
  {
   "cell_type": "code",
   "execution_count": 14,
   "metadata": {},
   "outputs": [
    {
     "data": {
      "text/plain": [
       "defined \u001b[32mfunction\u001b[39m \u001b[36msolveRPN\u001b[39m"
      ]
     },
     "execution_count": 14,
     "metadata": {},
     "output_type": "execute_result"
    }
   ],
   "source": [
    "def solveRPN(s: String): Double =\n",
    "    (s.split(' ').toList.foldLeft(Nil: List[Double]) {foldingFunction}).head"
   ]
  },
  {
   "cell_type": "code",
   "execution_count": 15,
   "metadata": {},
   "outputs": [
    {
     "data": {
      "text/plain": [
       "\u001b[36mres14\u001b[39m: \u001b[32mDouble\u001b[39m = \u001b[32m-4.0\u001b[39m"
      ]
     },
     "execution_count": 15,
     "metadata": {},
     "output_type": "execute_result"
    }
   ],
   "source": [
    "solveRPN(\"10 4 3 + 2 * -\")"
   ]
  },
  {
   "cell_type": "code",
   "execution_count": 16,
   "metadata": {},
   "outputs": [
    {
     "data": {
      "text/plain": [
       "\u001b[36mres15\u001b[39m: \u001b[32mOption\u001b[39m[\u001b[32mInt\u001b[39m] = \u001b[33mSome\u001b[39m(\u001b[32m1\u001b[39m)"
      ]
     },
     "execution_count": 16,
     "metadata": {},
     "output_type": "execute_result"
    }
   ],
   "source": [
    "\"1\".parseInt.toOption"
   ]
  },
  {
   "cell_type": "code",
   "execution_count": 17,
   "metadata": {},
   "outputs": [
    {
     "data": {
      "text/plain": [
       "\u001b[36mres16\u001b[39m: \u001b[32mOption\u001b[39m[\u001b[32mInt\u001b[39m] = None"
      ]
     },
     "execution_count": 17,
     "metadata": {},
     "output_type": "execute_result"
    }
   ],
   "source": [
    "\"foo\".parseInt.toOption"
   ]
  },
  {
   "cell_type": "code",
   "execution_count": 18,
   "metadata": {},
   "outputs": [
    {
     "data": {
      "text/plain": [
       "defined \u001b[32mfunction\u001b[39m \u001b[36mfoldingFunction\u001b[39m"
      ]
     },
     "execution_count": 18,
     "metadata": {},
     "output_type": "execute_result"
    }
   ],
   "source": [
    "def foldingFunction(list: List[Double], next: String): Option[List[Double]] = (list, next) match {\n",
    "    case (x :: y :: ys, \"*\") => ((y * x) :: ys).point[Option]\n",
    "    case (x :: y :: ys, \"+\") => ((y + x) :: ys).point[Option]\n",
    "    case (x :: y :: ys, \"-\") => ((y - x) :: ys).point[Option]\n",
    "    case (xs, numString) => numString.parseInt.toOption map {_ :: xs}\n",
    "}"
   ]
  },
  {
   "cell_type": "code",
   "execution_count": 19,
   "metadata": {},
   "outputs": [
    {
     "data": {
      "text/plain": [
       "\u001b[36mres18\u001b[39m: \u001b[32mOption\u001b[39m[\u001b[32mList\u001b[39m[\u001b[32mDouble\u001b[39m]] = \u001b[33mSome\u001b[39m(\u001b[33mList\u001b[39m(\u001b[32m6.0\u001b[39m))"
      ]
     },
     "execution_count": 19,
     "metadata": {},
     "output_type": "execute_result"
    }
   ],
   "source": [
    "foldingFunction(List(3, 2), \"*\")"
   ]
  },
  {
   "cell_type": "code",
   "execution_count": 20,
   "metadata": {},
   "outputs": [
    {
     "data": {
      "text/plain": [
       "\u001b[36mres19\u001b[39m: \u001b[32mOption\u001b[39m[\u001b[32mList\u001b[39m[\u001b[32mDouble\u001b[39m]] = None"
      ]
     },
     "execution_count": 20,
     "metadata": {},
     "output_type": "execute_result"
    }
   ],
   "source": [
    "foldingFunction(Nil, \"*\")"
   ]
  },
  {
   "cell_type": "code",
   "execution_count": 21,
   "metadata": {},
   "outputs": [
    {
     "data": {
      "text/plain": [
       "\u001b[36mres20\u001b[39m: \u001b[32mOption\u001b[39m[\u001b[32mList\u001b[39m[\u001b[32mDouble\u001b[39m]] = None"
      ]
     },
     "execution_count": 21,
     "metadata": {},
     "output_type": "execute_result"
    }
   ],
   "source": [
    "foldingFunction(Nil, \"wawa\")"
   ]
  },
  {
   "cell_type": "code",
   "execution_count": 23,
   "metadata": {},
   "outputs": [
    {
     "data": {
      "text/plain": [
       "defined \u001b[32mfunction\u001b[39m \u001b[36msolveRPN\u001b[39m"
      ]
     },
     "execution_count": 23,
     "metadata": {},
     "output_type": "execute_result"
    }
   ],
   "source": [
    "def solveRPN(s: String): Option[Double] = for {\n",
    "        List(x) <- s.split(' ').toList.foldLeftM(Nil: List[Double]) {foldingFunction}\n",
    "    } yield x"
   ]
  },
  {
   "cell_type": "code",
   "execution_count": 24,
   "metadata": {},
   "outputs": [
    {
     "data": {
      "text/plain": [
       "\u001b[36mres23\u001b[39m: \u001b[32mOption\u001b[39m[\u001b[32mDouble\u001b[39m] = \u001b[33mSome\u001b[39m(\u001b[32m6.0\u001b[39m)"
      ]
     },
     "execution_count": 24,
     "metadata": {},
     "output_type": "execute_result"
    }
   ],
   "source": [
    "solveRPN(\"1 2 * 4 +\")"
   ]
  },
  {
   "cell_type": "code",
   "execution_count": 25,
   "metadata": {},
   "outputs": [
    {
     "data": {
      "text/plain": [
       "\u001b[36mres24\u001b[39m: \u001b[32mOption\u001b[39m[\u001b[32mDouble\u001b[39m] = None"
      ]
     },
     "execution_count": 25,
     "metadata": {},
     "output_type": "execute_result"
    }
   ],
   "source": [
    "solveRPN(\"1 2 * 4\")"
   ]
  },
  {
   "cell_type": "code",
   "execution_count": 26,
   "metadata": {},
   "outputs": [
    {
     "data": {
      "text/plain": [
       "\u001b[36mres25\u001b[39m: \u001b[32mOption\u001b[39m[\u001b[32mDouble\u001b[39m] = None"
      ]
     },
     "execution_count": 26,
     "metadata": {},
     "output_type": "execute_result"
    }
   ],
   "source": [
    "solveRPN(\"1 8 garbage\")"
   ]
  },
  {
   "cell_type": "markdown",
   "metadata": {},
   "source": [
    "## モナディック関数の合成"
   ]
  },
  {
   "cell_type": "markdown",
   "metadata": {},
   "source": [
    "## Kleisli"
   ]
  },
  {
   "cell_type": "code",
   "execution_count": 27,
   "metadata": {},
   "outputs": [
    {
     "data": {
      "text/plain": [
       "\u001b[36mf\u001b[39m: \u001b[32mKleisli\u001b[39m[\u001b[32mOption\u001b[39m, \u001b[32mInt\u001b[39m, \u001b[32mInt\u001b[39m] = \u001b[33mKleisli\u001b[39m($sess.cmd26Wrapper$Helper$$Lambda$3467/441757940@71fa3786)"
      ]
     },
     "execution_count": 27,
     "metadata": {},
     "output_type": "execute_result"
    }
   ],
   "source": [
    "val f = Kleisli { (x: Int) => (x + 1).some }"
   ]
  },
  {
   "cell_type": "code",
   "execution_count": 28,
   "metadata": {},
   "outputs": [
    {
     "data": {
      "text/plain": [
       "\u001b[36mg\u001b[39m: \u001b[32mKleisli\u001b[39m[\u001b[32mOption\u001b[39m, \u001b[32mInt\u001b[39m, \u001b[32mInt\u001b[39m] = \u001b[33mKleisli\u001b[39m($sess.cmd27Wrapper$Helper$$Lambda$3474/905221185@4b34d268)"
      ]
     },
     "execution_count": 28,
     "metadata": {},
     "output_type": "execute_result"
    }
   ],
   "source": [
    "val g = Kleisli { (x: Int) => (x * 100).some }"
   ]
  },
  {
   "cell_type": "code",
   "execution_count": 29,
   "metadata": {},
   "outputs": [
    {
     "data": {
      "text/plain": [
       "\u001b[36mres28\u001b[39m: \u001b[32mOption\u001b[39m[\u001b[32mInt\u001b[39m] = \u001b[33mSome\u001b[39m(\u001b[32m401\u001b[39m)"
      ]
     },
     "execution_count": 29,
     "metadata": {},
     "output_type": "execute_result"
    }
   ],
   "source": [
    "4.some >>= (f <=< g)"
   ]
  },
  {
   "cell_type": "code",
   "execution_count": 30,
   "metadata": {},
   "outputs": [
    {
     "data": {
      "text/plain": [
       "\u001b[36mres29\u001b[39m: \u001b[32mOption\u001b[39m[\u001b[32mInt\u001b[39m] = \u001b[33mSome\u001b[39m(\u001b[32m500\u001b[39m)"
      ]
     },
     "execution_count": 30,
     "metadata": {},
     "output_type": "execute_result"
    }
   ],
   "source": [
    "4.some >>= (f >=> g)"
   ]
  },
  {
   "cell_type": "markdown",
   "metadata": {},
   "source": [
    "## Reader 再び"
   ]
  },
  {
   "cell_type": "code",
   "execution_count": 31,
   "metadata": {},
   "outputs": [
    {
     "data": {
      "text/plain": [
       "\u001b[36maddStuff\u001b[39m: \u001b[32mReader\u001b[39m[\u001b[32mInt\u001b[39m, \u001b[32mInt\u001b[39m] = \u001b[33mKleisli\u001b[39m(scalaz.Kleisli$$Lambda$3498/749836885@daef384)"
      ]
     },
     "execution_count": 31,
     "metadata": {},
     "output_type": "execute_result"
    }
   ],
   "source": [
    "val addStuff: Reader[Int, Int] = for {\n",
    "    a <- Reader { (_: Int) * 2 }\n",
    "    b <- Reader { (_: Int) + 10 }\n",
    "} yield a + b"
   ]
  },
  {
   "cell_type": "code",
   "execution_count": 32,
   "metadata": {},
   "outputs": [
    {
     "data": {
      "text/plain": [
       "\u001b[36mres31\u001b[39m: \u001b[32mId\u001b[39m[\u001b[32mInt\u001b[39m] = \u001b[32m19\u001b[39m"
      ]
     },
     "execution_count": 32,
     "metadata": {},
     "output_type": "execute_result"
    }
   ],
   "source": [
    "addStuff(3)"
   ]
  },
  {
   "cell_type": "markdown",
   "metadata": {},
   "source": [
    "## モナドを作る"
   ]
  },
  {
   "cell_type": "code",
   "execution_count": 34,
   "metadata": {},
   "outputs": [
    {
     "data": {
      "text/plain": [
       "defined \u001b[32mclass\u001b[39m \u001b[36mProb\u001b[39m\n",
       "defined \u001b[32mtrait\u001b[39m \u001b[36mProbInstances\u001b[39m\n",
       "defined \u001b[32mobject\u001b[39m \u001b[36mProb\u001b[39m"
      ]
     },
     "execution_count": 34,
     "metadata": {},
     "output_type": "execute_result"
    }
   ],
   "source": [
    "case class Prob[A](list: List[(A, Double)])\n",
    "\n",
    "trait ProbInstances {\n",
    "    implicit def probShow[A]: Show[Prob[A]] = Show.showA\n",
    "}\n",
    "\n",
    "case object Prob extends ProbInstances"
   ]
  },
  {
   "cell_type": "code",
   "execution_count": 35,
   "metadata": {},
   "outputs": [
    {
     "data": {
      "text/plain": [
       "defined \u001b[32mclass\u001b[39m \u001b[36mProb\u001b[39m\n",
       "defined \u001b[32mtrait\u001b[39m \u001b[36mProbInstances\u001b[39m\n",
       "defined \u001b[32mobject\u001b[39m \u001b[36mProb\u001b[39m"
      ]
     },
     "execution_count": 35,
     "metadata": {},
     "output_type": "execute_result"
    }
   ],
   "source": [
    "case class Prob[A](list: List[(A, Double)])\n",
    "\n",
    "trait ProbInstances {\n",
    "    implicit val probInstance = new Functor[Prob] {\n",
    "        def map[A, B](fa: Prob[A])(f: A => B): Prob[B] =\n",
    "        Prob(fa.list map { case (x, p) => (f(x), p) })\n",
    "    }\n",
    "    implicit def probShow[A]: Show[Prob[A]] = Show.showA\n",
    "}\n",
    "\n",
    "case object Prob extends ProbInstances"
   ]
  },
  {
   "cell_type": "code",
   "execution_count": 38,
   "metadata": {},
   "outputs": [
    {
     "data": {
      "text/plain": [
       "\u001b[36mres37\u001b[39m: \u001b[32mProb\u001b[39m[\u001b[32mInt\u001b[39m] = \u001b[33mProb\u001b[39m(\u001b[33mList\u001b[39m((\u001b[32m-3\u001b[39m, \u001b[32m0.5\u001b[39m), (\u001b[32m-5\u001b[39m, \u001b[32m0.25\u001b[39m), (\u001b[32m-9\u001b[39m, \u001b[32m0.25\u001b[39m)))"
      ]
     },
     "execution_count": 38,
     "metadata": {},
     "output_type": "execute_result"
    }
   ],
   "source": [
    "Prob((3, 0.5) :: (5, 0.25) :: (9, 0.25) :: Nil) map {-_} "
   ]
  },
  {
   "cell_type": "code",
   "execution_count": 41,
   "metadata": {},
   "outputs": [
    {
     "data": {
      "text/plain": [
       "defined \u001b[32mclass\u001b[39m \u001b[36mProb\u001b[39m\n",
       "defined \u001b[32mtrait\u001b[39m \u001b[36mProbInstances\u001b[39m\n",
       "defined \u001b[32mobject\u001b[39m \u001b[36mProb\u001b[39m"
      ]
     },
     "execution_count": 41,
     "metadata": {},
     "output_type": "execute_result"
    }
   ],
   "source": [
    "case class Prob[A](list: List[(A, Double)])\n",
    "\n",
    "trait ProbInstances {\n",
    "  def flatten[B](xs: Prob[Prob[B]]): Prob[B] = {\n",
    "    def multall(innerxs: Prob[B], p: Double) =\n",
    "      innerxs.list map { case (x, r) => (x, p * r) }\n",
    "    Prob((xs.list map { case (innerxs, p) => multall(innerxs, p) }).flatten)\n",
    "  }\n",
    "\n",
    "  implicit val probInstance = new Functor[Prob] with Monad[Prob] {\n",
    "    def point[A](a: => A): Prob[A] = Prob((a, 1.0) :: Nil)\n",
    "    def bind[A, B](fa: Prob[A])(f: A => Prob[B]): Prob[B] = flatten(map(fa)(f)) \n",
    "    override def map[A, B](fa: Prob[A])(f: A => B): Prob[B] =\n",
    "      Prob(fa.list map { case (x, p) => (f(x), p) })\n",
    "  }\n",
    "  implicit def probShow[A]: Show[Prob[A]] = Show.showA\n",
    "}\n",
    "\n",
    "case object Prob extends ProbInstances"
   ]
  },
  {
   "cell_type": "code",
   "execution_count": 42,
   "metadata": {},
   "outputs": [
    {
     "data": {
      "text/plain": [
       "defined \u001b[32mtrait\u001b[39m \u001b[36mCoin\u001b[39m\n",
       "defined \u001b[32mobject\u001b[39m \u001b[36mHeads\u001b[39m\n",
       "defined \u001b[32mobject\u001b[39m \u001b[36mTails\u001b[39m"
      ]
     },
     "execution_count": 42,
     "metadata": {},
     "output_type": "execute_result"
    }
   ],
   "source": [
    "sealed trait Coin\n",
    "case object Heads extends Coin\n",
    "case object Tails extends Coin\n"
   ]
  },
  {
   "cell_type": "code",
   "execution_count": 43,
   "metadata": {},
   "outputs": [
    {
     "data": {
      "text/plain": [
       "\u001b[36mcoinEqual\u001b[39m: \u001b[32mEqual\u001b[39m[\u001b[32mCoin\u001b[39m] = scalaz.Equal$$anon$5@1fd21e91\n",
       "defined \u001b[32mfunction\u001b[39m \u001b[36mcoin\u001b[39m\n",
       "defined \u001b[32mfunction\u001b[39m \u001b[36mloadedCoin\u001b[39m\n",
       "defined \u001b[32mfunction\u001b[39m \u001b[36mflipThree\u001b[39m"
      ]
     },
     "execution_count": 43,
     "metadata": {},
     "output_type": "execute_result"
    }
   ],
   "source": [
    "implicit val coinEqual: Equal[Coin] = Equal.equalA\n",
    "\n",
    "def coin: Prob[Coin] = Prob(Heads -> 0.5 :: Tails -> 0.5 :: Nil)\n",
    "def loadedCoin: Prob[Coin] = Prob(Heads -> 0.1 :: Tails -> 0.9 :: Nil)\n",
    "\n",
    "def flipThree: Prob[Boolean] = for {\n",
    "  a <- coin\n",
    "  b <- coin\n",
    "  c <- loadedCoin\n",
    "} yield { List(a, b, c) all {_ === Tails} }"
   ]
  },
  {
   "cell_type": "code",
   "execution_count": 44,
   "metadata": {},
   "outputs": [
    {
     "data": {
      "text/plain": [
       "\u001b[36mres43\u001b[39m: \u001b[32mProb\u001b[39m[\u001b[32mBoolean\u001b[39m] = \u001b[33mProb\u001b[39m(\n",
       "  \u001b[33mList\u001b[39m(\n",
       "    (\u001b[32mfalse\u001b[39m, \u001b[32m0.025\u001b[39m),\n",
       "    (\u001b[32mfalse\u001b[39m, \u001b[32m0.225\u001b[39m),\n",
       "    (\u001b[32mfalse\u001b[39m, \u001b[32m0.025\u001b[39m),\n",
       "    (\u001b[32mfalse\u001b[39m, \u001b[32m0.225\u001b[39m),\n",
       "    (\u001b[32mfalse\u001b[39m, \u001b[32m0.025\u001b[39m),\n",
       "    (\u001b[32mfalse\u001b[39m, \u001b[32m0.225\u001b[39m),\n",
       "    (\u001b[32mfalse\u001b[39m, \u001b[32m0.025\u001b[39m),\n",
       "    (\u001b[32mtrue\u001b[39m, \u001b[32m0.225\u001b[39m)\n",
       "  )\n",
       ")"
      ]
     },
     "execution_count": 44,
     "metadata": {},
     "output_type": "execute_result"
    }
   ],
   "source": [
    "flipThree"
   ]
  }
 ],
 "metadata": {
  "kernelspec": {
   "display_name": "Scala v2.12.2",
   "language": "scala",
   "name": "scala"
  },
  "language_info": {
   "codemirror_mode": "text/x-scala",
   "file_extension": ".scala",
   "mimetype": "text/x-scala",
   "name": "scala212",
   "nbconvert_exporter": "script",
   "pygments_lexer": "scala",
   "version": "2.12.2"
  }
 },
 "nbformat": 4,
 "nbformat_minor": 2
}
