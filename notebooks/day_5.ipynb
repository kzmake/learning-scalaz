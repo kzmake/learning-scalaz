{
 "cells": [
  {
   "cell_type": "markdown",
   "metadata": {},
   "source": [
    "# Day 5"
   ]
  },
  {
   "cell_type": "code",
   "execution_count": 1,
   "metadata": {},
   "outputs": [
    {
     "data": {
      "text/plain": [
       "\u001b[32mimport \u001b[39m\u001b[36m$ivy.$                               \n",
       "\u001b[39m\n",
       "\u001b[32mimport \u001b[39m\u001b[36m$ivy.$                                 \n",
       "\u001b[39m\n",
       "\u001b[32mimport \u001b[39m\u001b[36m$ivy.$                                    \n",
       "\u001b[39m\n",
       "\u001b[32mimport \u001b[39m\u001b[36m$ivy.$                                             \n",
       "\u001b[39m\n",
       "\u001b[32mimport \u001b[39m\u001b[36mscalaz._\n",
       "\u001b[39m\n",
       "\u001b[32mimport \u001b[39m\u001b[36mScalaz._\n",
       "\u001b[39m\n",
       "\u001b[32mimport \u001b[39m\u001b[36mscalacheck.ScalazProperties._\n",
       "\u001b[39m\n",
       "\u001b[32mimport \u001b[39m\u001b[36mscalacheck.ScalazArbitrary._\n",
       "\u001b[39m\n",
       "\u001b[32mimport \u001b[39m\u001b[36mscalacheck.ScalaCheckBinding._\u001b[39m"
      ]
     },
     "execution_count": 1,
     "metadata": {},
     "output_type": "execute_result"
    }
   ],
   "source": [
    "import $ivy.`org.scalaz::scalaz-core:7.2.22`\n",
    "import $ivy.`org.scalaz::scalaz-effect:7.2.22`\n",
    "import $ivy.`org.scalaz::scalaz-typelevel:7.1.17`\n",
    "import $ivy.`org.scalaz::scalaz-scalacheck-binding:7.2.21`\n",
    "import scalaz._\n",
    "import Scalaz._\n",
    "import scalacheck.ScalazProperties._\n",
    "import scalacheck.ScalazArbitrary._\n",
    "import scalacheck.ScalaCheckBinding._"
   ]
  },
  {
   "cell_type": "markdown",
   "metadata": {},
   "source": [
    "## モナドがいっぱい"
   ]
  },
  {
   "cell_type": "markdown",
   "metadata": {},
   "source": [
    "```scala\n",
    "trait Monad[F[_]] extends Applicative[F] with Bind[F] { self =>\n",
    "  ////\n",
    "}\n",
    "```"
   ]
  },
  {
   "cell_type": "markdown",
   "metadata": {},
   "source": [
    "## Bind"
   ]
  },
  {
   "cell_type": "markdown",
   "metadata": {},
   "source": [
    "```scala\n",
    "trait Bind[F[_]] extends Apply[F] { self =>\n",
    "  /** Equivalent to `join(map(fa)(f))`. */\n",
    "  def bind[A, B](fa: F[A])(f: A => F[B]): F[B]\n",
    "}\n",
    "```"
   ]
  },
  {
   "cell_type": "markdown",
   "metadata": {},
   "source": [
    "```scala\n",
    "/** Wraps a value `self` and provides methods related to `Bind` */\n",
    "trait BindOps[F[_],A] extends Ops[F[A]] {\n",
    "  implicit def F: Bind[F]\n",
    "  ////\n",
    "  import Liskov.<~<\n",
    "\n",
    "  def flatMap[B](f: A => F[B]) = F.bind(self)(f)\n",
    "  def >>=[B](f: A => F[B]) = F.bind(self)(f)\n",
    "  def ∗[B](f: A => F[B]) = F.bind(self)(f)\n",
    "  def join[B](implicit ev: A <~< F[B]): F[B] = F.bind(self)(ev(_))\n",
    "  def μ[B](implicit ev: A <~< F[B]): F[B] = F.bind(self)(ev(_))\n",
    "  def >>[B](b: F[B]): F[B] = F.bind(self)(_ => b)\n",
    "  def ifM[B](ifTrue: => F[B], ifFalse: => F[B])(implicit ev: A <~< Boolean): F[B] = {\n",
    "    val value: F[Boolean] = Liskov.co[F, A, Boolean](ev)(self)\n",
    "    F.ifM(value, ifTrue, ifFalse)\n",
    "  }\n",
    "  ////\n",
    "}\n",
    "```"
   ]
  },
  {
   "cell_type": "code",
   "execution_count": 2,
   "metadata": {},
   "outputs": [
    {
     "data": {
      "text/plain": [
       "\u001b[36mres1\u001b[39m: \u001b[32mOption\u001b[39m[\u001b[32mInt\u001b[39m] = \u001b[33mSome\u001b[39m(\u001b[32m4\u001b[39m)"
      ]
     },
     "execution_count": 2,
     "metadata": {},
     "output_type": "execute_result"
    }
   ],
   "source": [
    "3.some flatMap { x => (x + 1).some }"
   ]
  },
  {
   "cell_type": "code",
   "execution_count": 3,
   "metadata": {},
   "outputs": [
    {
     "data": {
      "text/plain": [
       "\u001b[36mres2\u001b[39m: \u001b[32mOption\u001b[39m[\u001b[32mInt\u001b[39m] = None"
      ]
     },
     "execution_count": 3,
     "metadata": {},
     "output_type": "execute_result"
    }
   ],
   "source": [
    "(none: Option[Int]) flatMap { x => (x + 1).some }"
   ]
  },
  {
   "cell_type": "markdown",
   "metadata": {},
   "source": [
    "## Monad"
   ]
  },
  {
   "cell_type": "code",
   "execution_count": 4,
   "metadata": {},
   "outputs": [
    {
     "data": {
      "text/plain": [
       "\u001b[36mres3\u001b[39m: \u001b[32mOption\u001b[39m[\u001b[32mString\u001b[39m] = \u001b[33mSome\u001b[39m(\u001b[32m\"WHAT\"\u001b[39m)"
      ]
     },
     "execution_count": 4,
     "metadata": {},
     "output_type": "execute_result"
    }
   ],
   "source": [
    "Monad[Option].point(\"WHAT\")"
   ]
  },
  {
   "cell_type": "code",
   "execution_count": 5,
   "metadata": {},
   "outputs": [
    {
     "data": {
      "text/plain": [
       "\u001b[36mres4\u001b[39m: \u001b[32mOption\u001b[39m[\u001b[32mInt\u001b[39m] = \u001b[33mSome\u001b[39m(\u001b[32m90\u001b[39m)"
      ]
     },
     "execution_count": 5,
     "metadata": {},
     "output_type": "execute_result"
    }
   ],
   "source": [
    "9.some flatMap { x => Monad[Option].point(x * 10) }"
   ]
  },
  {
   "cell_type": "code",
   "execution_count": 6,
   "metadata": {},
   "outputs": [
    {
     "data": {
      "text/plain": [
       "\u001b[36mres5\u001b[39m: \u001b[32mOption\u001b[39m[\u001b[32mInt\u001b[39m] = None"
      ]
     },
     "execution_count": 6,
     "metadata": {},
     "output_type": "execute_result"
    }
   ],
   "source": [
    "(none: Option[Int]) flatMap { x => Monad[Option].point(x * 10) }"
   ]
  },
  {
   "cell_type": "markdown",
   "metadata": {},
   "source": [
    "## 綱渡り"
   ]
  },
  {
   "cell_type": "code",
   "execution_count": 7,
   "metadata": {},
   "outputs": [
    {
     "data": {
      "text/plain": [
       "defined \u001b[32mtype\u001b[39m \u001b[36mBirds\u001b[39m"
      ]
     },
     "execution_count": 7,
     "metadata": {},
     "output_type": "execute_result"
    }
   ],
   "source": [
    "type Birds = Int"
   ]
  },
  {
   "cell_type": "code",
   "execution_count": 8,
   "metadata": {},
   "outputs": [
    {
     "data": {
      "text/plain": [
       "defined \u001b[32mclass\u001b[39m \u001b[36mPole\u001b[39m"
      ]
     },
     "execution_count": 8,
     "metadata": {},
     "output_type": "execute_result"
    }
   ],
   "source": [
    "case class Pole(left: Birds, right: Birds)"
   ]
  },
  {
   "cell_type": "code",
   "execution_count": 9,
   "metadata": {},
   "outputs": [
    {
     "data": {
      "text/plain": [
       "defined \u001b[32mclass\u001b[39m \u001b[36mPole\u001b[39m"
      ]
     },
     "execution_count": 9,
     "metadata": {},
     "output_type": "execute_result"
    }
   ],
   "source": [
    "case class Pole(left: Birds, right: Birds) {\n",
    "    def landLeft(n: Birds): Pole = copy(left = left + n)\n",
    "    def landRight(n: Birds): Pole = copy(right = right + n) \n",
    "}"
   ]
  },
  {
   "cell_type": "code",
   "execution_count": 10,
   "metadata": {},
   "outputs": [
    {
     "data": {
      "text/plain": [
       "\u001b[36mres9\u001b[39m: \u001b[32mPole\u001b[39m = \u001b[33mPole\u001b[39m(\u001b[32m2\u001b[39m, \u001b[32m0\u001b[39m)"
      ]
     },
     "execution_count": 10,
     "metadata": {},
     "output_type": "execute_result"
    }
   ],
   "source": [
    "Pole(0, 0).landLeft(2)"
   ]
  },
  {
   "cell_type": "code",
   "execution_count": 11,
   "metadata": {},
   "outputs": [
    {
     "data": {
      "text/plain": [
       "\u001b[36mres10\u001b[39m: \u001b[32mPole\u001b[39m = \u001b[33mPole\u001b[39m(\u001b[32m1\u001b[39m, \u001b[32m3\u001b[39m)"
      ]
     },
     "execution_count": 11,
     "metadata": {},
     "output_type": "execute_result"
    }
   ],
   "source": [
    "Pole(1, 2).landRight(1)"
   ]
  },
  {
   "cell_type": "code",
   "execution_count": 12,
   "metadata": {},
   "outputs": [
    {
     "data": {
      "text/plain": [
       "\u001b[36mres11\u001b[39m: \u001b[32mPole\u001b[39m = \u001b[33mPole\u001b[39m(\u001b[32m1\u001b[39m, \u001b[32m1\u001b[39m)"
      ]
     },
     "execution_count": 12,
     "metadata": {},
     "output_type": "execute_result"
    }
   ],
   "source": [
    "Pole(1, 2).landRight(-1)"
   ]
  },
  {
   "cell_type": "code",
   "execution_count": 13,
   "metadata": {},
   "outputs": [
    {
     "data": {
      "text/plain": [
       "\u001b[36mres12\u001b[39m: \u001b[32mPole\u001b[39m = \u001b[33mPole\u001b[39m(\u001b[32m3\u001b[39m, \u001b[32m1\u001b[39m)"
      ]
     },
     "execution_count": 13,
     "metadata": {},
     "output_type": "execute_result"
    }
   ],
   "source": [
    "Pole(0, 0).landLeft(1).landRight(1).landLeft(2)"
   ]
  },
  {
   "cell_type": "code",
   "execution_count": 14,
   "metadata": {},
   "outputs": [
    {
     "data": {
      "text/plain": [
       "\u001b[36mres13\u001b[39m: \u001b[32mPole\u001b[39m = \u001b[33mPole\u001b[39m(\u001b[32m0\u001b[39m, \u001b[32m2\u001b[39m)"
      ]
     },
     "execution_count": 14,
     "metadata": {},
     "output_type": "execute_result"
    }
   ],
   "source": [
    "Pole(0, 0).landLeft(1).landRight(4).landLeft(-1).landRight(-2)"
   ]
  },
  {
   "cell_type": "code",
   "execution_count": 15,
   "metadata": {},
   "outputs": [
    {
     "data": {
      "text/plain": [
       "defined \u001b[32mclass\u001b[39m \u001b[36mPole\u001b[39m"
      ]
     },
     "execution_count": 15,
     "metadata": {},
     "output_type": "execute_result"
    }
   ],
   "source": [
    "case class Pole(left: Birds, right: Birds) {\n",
    "    def landLeft(n: Birds): Option[Pole] = \n",
    "        if (math.abs((left + n) - right) < 4) copy(left = left + n).some\n",
    "        else none\n",
    "    def landRight(n: Birds): Option[Pole] =\n",
    "        if (math.abs(left - (right + n)) < 4) copy(right = right + n).some\n",
    "        else none\n",
    "}"
   ]
  },
  {
   "cell_type": "code",
   "execution_count": 16,
   "metadata": {},
   "outputs": [
    {
     "data": {
      "text/plain": [
       "\u001b[36mres15\u001b[39m: \u001b[32mOption\u001b[39m[\u001b[32mPole\u001b[39m] = \u001b[33mSome\u001b[39m(\u001b[33mPole\u001b[39m(\u001b[32m2\u001b[39m, \u001b[32m0\u001b[39m))"
      ]
     },
     "execution_count": 16,
     "metadata": {},
     "output_type": "execute_result"
    }
   ],
   "source": [
    "Pole(0, 0).landLeft(2)"
   ]
  },
  {
   "cell_type": "code",
   "execution_count": 17,
   "metadata": {},
   "outputs": [
    {
     "data": {
      "text/plain": [
       "\u001b[36mres16\u001b[39m: \u001b[32mOption\u001b[39m[\u001b[32mPole\u001b[39m] = None"
      ]
     },
     "execution_count": 17,
     "metadata": {},
     "output_type": "execute_result"
    }
   ],
   "source": [
    "Pole(0, 3).landLeft(10)"
   ]
  },
  {
   "cell_type": "code",
   "execution_count": 18,
   "metadata": {},
   "outputs": [
    {
     "data": {
      "text/plain": [
       "\u001b[36mres17\u001b[39m: \u001b[32mOption\u001b[39m[\u001b[32mPole\u001b[39m] = \u001b[33mSome\u001b[39m(\u001b[33mPole\u001b[39m(\u001b[32m2\u001b[39m, \u001b[32m1\u001b[39m))"
      ]
     },
     "execution_count": 18,
     "metadata": {},
     "output_type": "execute_result"
    }
   ],
   "source": [
    "Pole(0, 0).landRight(1) flatMap {_.landLeft(2)}"
   ]
  },
  {
   "cell_type": "code",
   "execution_count": 19,
   "metadata": {},
   "outputs": [
    {
     "data": {
      "text/plain": [
       "\u001b[36mres18\u001b[39m: \u001b[32mOption\u001b[39m[\u001b[32mPole\u001b[39m] = None"
      ]
     },
     "execution_count": 19,
     "metadata": {},
     "output_type": "execute_result"
    }
   ],
   "source": [
    "(none: Option[Pole]) flatMap {_.landLeft(2)}"
   ]
  },
  {
   "cell_type": "code",
   "execution_count": 20,
   "metadata": {},
   "outputs": [
    {
     "data": {
      "text/plain": [
       "\u001b[36mres19\u001b[39m: \u001b[32mOption\u001b[39m[\u001b[32mPole\u001b[39m] = \u001b[33mSome\u001b[39m(\u001b[33mPole\u001b[39m(\u001b[32m2\u001b[39m, \u001b[32m4\u001b[39m))"
      ]
     },
     "execution_count": 20,
     "metadata": {},
     "output_type": "execute_result"
    }
   ],
   "source": [
    "Monad[Option].point(Pole(0, 0)) flatMap {_.landRight(2)} flatMap {_.landLeft(2)} flatMap {_.landRight(2)}"
   ]
  },
  {
   "cell_type": "code",
   "execution_count": 21,
   "metadata": {},
   "outputs": [
    {
     "data": {
      "text/plain": [
       "\u001b[36mres20\u001b[39m: \u001b[32mOption\u001b[39m[\u001b[32mPole\u001b[39m] = \u001b[33mSome\u001b[39m(\u001b[33mPole\u001b[39m(\u001b[32m2\u001b[39m, \u001b[32m4\u001b[39m))"
      ]
     },
     "execution_count": 21,
     "metadata": {},
     "output_type": "execute_result"
    }
   ],
   "source": [
    "Monad[Option].point(Pole(0, 0)) >>= {_.landRight(2)} >>= {_.landLeft(2)} >>= {_.landRight(2)}"
   ]
  },
  {
   "cell_type": "code",
   "execution_count": 22,
   "metadata": {},
   "outputs": [
    {
     "data": {
      "text/plain": [
       "\u001b[36mres21\u001b[39m: \u001b[32mOption\u001b[39m[\u001b[32mPole\u001b[39m] = None"
      ]
     },
     "execution_count": 22,
     "metadata": {},
     "output_type": "execute_result"
    }
   ],
   "source": [
    "Monad[Option].point(Pole(0, 0)) >>= {_.landLeft(1)} >>= {_.landRight(4)} >>= {_.landLeft(-1)} >>= {_.landRight(-2)}"
   ]
  },
  {
   "cell_type": "markdown",
   "metadata": {},
   "source": [
    "## ロープの上のバナナ"
   ]
  },
  {
   "cell_type": "code",
   "execution_count": 23,
   "metadata": {},
   "outputs": [
    {
     "data": {
      "text/plain": [
       "defined \u001b[32mclass\u001b[39m \u001b[36mPole\u001b[39m"
      ]
     },
     "execution_count": 23,
     "metadata": {},
     "output_type": "execute_result"
    }
   ],
   "source": [
    "case class Pole(left: Birds, right: Birds) {\n",
    "    def landLeft(n: Birds): Option[Pole] = \n",
    "        if (math.abs((left + n) - right) < 4) copy(left = left + n).some\n",
    "        else none\n",
    "    def landRight(n: Birds): Option[Pole] =\n",
    "        if (math.abs(left - (right + n)) < 4) copy(right = right + n).some\n",
    "        else none\n",
    "    def banana: Option[Pole] = none\n",
    "}"
   ]
  },
  {
   "cell_type": "code",
   "execution_count": 24,
   "metadata": {},
   "outputs": [
    {
     "data": {
      "text/plain": [
       "\u001b[36mres23\u001b[39m: \u001b[32mOption\u001b[39m[\u001b[32mPole\u001b[39m] = None"
      ]
     },
     "execution_count": 24,
     "metadata": {},
     "output_type": "execute_result"
    }
   ],
   "source": [
    "Monad[Option].point(Pole(0, 0)) >>= {_.landLeft(1)} >>= {_.banana} >>= {_.landRight(1)}"
   ]
  },
  {
   "cell_type": "code",
   "execution_count": 25,
   "metadata": {},
   "outputs": [
    {
     "data": {
      "text/plain": [
       "\u001b[36mres24\u001b[39m: \u001b[32mOption\u001b[39m[\u001b[32mInt\u001b[39m] = None"
      ]
     },
     "execution_count": 25,
     "metadata": {},
     "output_type": "execute_result"
    }
   ],
   "source": [
    "(none: Option[Int]) >> 3.some"
   ]
  },
  {
   "cell_type": "code",
   "execution_count": 26,
   "metadata": {},
   "outputs": [
    {
     "data": {
      "text/plain": [
       "\u001b[36mres25\u001b[39m: \u001b[32mOption\u001b[39m[\u001b[32mInt\u001b[39m] = \u001b[33mSome\u001b[39m(\u001b[32m4\u001b[39m)"
      ]
     },
     "execution_count": 26,
     "metadata": {},
     "output_type": "execute_result"
    }
   ],
   "source": [
    "3.some >> 4.some"
   ]
  },
  {
   "cell_type": "code",
   "execution_count": 27,
   "metadata": {},
   "outputs": [
    {
     "data": {
      "text/plain": [
       "\u001b[36mres26\u001b[39m: \u001b[32mOption\u001b[39m[\u001b[32mInt\u001b[39m] = None"
      ]
     },
     "execution_count": 27,
     "metadata": {},
     "output_type": "execute_result"
    }
   ],
   "source": [
    "3.some >> (none: Option[Int])"
   ]
  },
  {
   "cell_type": "code",
   "execution_count": 27,
   "metadata": {},
   "outputs": [
    {
     "name": "stderr",
     "output_type": "stream",
     "text": [
      "cmd27.sc:1: missing parameter type for expanded function ((x$1: <error>) => x$1.landLeft(1))\n",
      "val res27 = Monad[Option].point(Pole(0, 0)) >>= {_.landLeft(1)} >> (none: Option[Pole]) >>= {_.landRight(1)}\n",
      "                                                 ^"
     ]
    },
    {
     "ename": "",
     "evalue": "",
     "output_type": "error",
     "traceback": [
      "Compilation Failed"
     ]
    }
   ],
   "source": [
    "Monad[Option].point(Pole(0, 0)) >>= {_.landLeft(1)} >> (none: Option[Pole]) >>= {_.landRight(1)}"
   ]
  },
  {
   "cell_type": "code",
   "execution_count": 28,
   "metadata": {},
   "outputs": [
    {
     "data": {
      "text/plain": [
       "\u001b[36mres27\u001b[39m: \u001b[32mOption\u001b[39m[\u001b[32mPole\u001b[39m] = None"
      ]
     },
     "execution_count": 28,
     "metadata": {},
     "output_type": "execute_result"
    }
   ],
   "source": [
    "Monad[Option].point(Pole(0, 0)).>>=({_.landLeft(1)}).>>(none: Option[Pole]).>>=({_.landRight(1)})"
   ]
  },
  {
   "cell_type": "code",
   "execution_count": 29,
   "metadata": {},
   "outputs": [
    {
     "data": {
      "text/plain": [
       "\u001b[36mres28\u001b[39m: \u001b[32mOption\u001b[39m[\u001b[32mPole\u001b[39m] = None"
      ]
     },
     "execution_count": 29,
     "metadata": {},
     "output_type": "execute_result"
    }
   ],
   "source": [
    "(Monad[Option].point(Pole(0, 0)) >>= {_.landLeft(1)}) >> (none: Option[Pole]) >>= {_.landRight(1)}"
   ]
  },
  {
   "cell_type": "markdown",
   "metadata": {},
   "source": [
    "## for 構文"
   ]
  },
  {
   "cell_type": "code",
   "execution_count": 30,
   "metadata": {},
   "outputs": [
    {
     "data": {
      "text/plain": [
       "\u001b[36mres29\u001b[39m: \u001b[32mOption\u001b[39m[\u001b[32mString\u001b[39m] = \u001b[33mSome\u001b[39m(\u001b[32m\"3!\"\u001b[39m)"
      ]
     },
     "execution_count": 30,
     "metadata": {},
     "output_type": "execute_result"
    }
   ],
   "source": [
    "3.some >>= { x => \"!\".some >>= { y => (x.shows + y).some } }"
   ]
  },
  {
   "cell_type": "code",
   "execution_count": 31,
   "metadata": {},
   "outputs": [
    {
     "data": {
      "text/plain": [
       "\u001b[36mres30\u001b[39m: \u001b[32mOption\u001b[39m[\u001b[32mString\u001b[39m] = \u001b[33mSome\u001b[39m(\u001b[32m\"3!\"\u001b[39m)"
      ]
     },
     "execution_count": 31,
     "metadata": {},
     "output_type": "execute_result"
    }
   ],
   "source": [
    "3.some >>= { x => \"!\".some >>= { y => (x.shows + y).some } }"
   ]
  },
  {
   "cell_type": "code",
   "execution_count": 32,
   "metadata": {},
   "outputs": [
    {
     "data": {
      "text/plain": [
       "\u001b[36mres31\u001b[39m: \u001b[32mOption\u001b[39m[\u001b[32mString\u001b[39m] = None"
      ]
     },
     "execution_count": 32,
     "metadata": {},
     "output_type": "execute_result"
    }
   ],
   "source": [
    "(none: Option[Int]) >>= { x => \"!\".some >>= { y => (x.shows + y).some } }"
   ]
  },
  {
   "cell_type": "code",
   "execution_count": 33,
   "metadata": {},
   "outputs": [
    {
     "data": {
      "text/plain": [
       "\u001b[36mres32\u001b[39m: \u001b[32mOption\u001b[39m[\u001b[32mString\u001b[39m] = None"
      ]
     },
     "execution_count": 33,
     "metadata": {},
     "output_type": "execute_result"
    }
   ],
   "source": [
    "3.some >>= { x => \"!\".some >>= { y => (none: Option[String]) } }"
   ]
  },
  {
   "cell_type": "code",
   "execution_count": 34,
   "metadata": {},
   "outputs": [
    {
     "data": {
      "text/plain": [
       "\u001b[36mres33\u001b[39m: \u001b[32mOption\u001b[39m[\u001b[32mString\u001b[39m] = \u001b[33mSome\u001b[39m(\u001b[32m\"3!\"\u001b[39m)"
      ]
     },
     "execution_count": 34,
     "metadata": {},
     "output_type": "execute_result"
    }
   ],
   "source": [
    "for {\n",
    "    x <- 3.some\n",
    "    y <- \"!\".some\n",
    "} yield (x.shows + y)"
   ]
  },
  {
   "cell_type": "markdown",
   "metadata": {},
   "source": [
    "## 帰ってきたピエール"
   ]
  },
  {
   "cell_type": "code",
   "execution_count": 35,
   "metadata": {},
   "outputs": [
    {
     "data": {
      "text/plain": [
       "defined \u001b[32mfunction\u001b[39m \u001b[36mroutine\u001b[39m"
      ]
     },
     "execution_count": 35,
     "metadata": {},
     "output_type": "execute_result"
    }
   ],
   "source": [
    "def routine: Option[Pole] =\n",
    "    for {\n",
    "        start <- Monad[Option].point(Pole(0, 0))\n",
    "        first <- start.landLeft(2)\n",
    "        second <- first.landRight(2)\n",
    "        third <- second.landLeft(1)\n",
    "    } yield third"
   ]
  },
  {
   "cell_type": "code",
   "execution_count": 36,
   "metadata": {},
   "outputs": [
    {
     "data": {
      "text/plain": [
       "\u001b[36mres35\u001b[39m: \u001b[32mOption\u001b[39m[\u001b[32mPole\u001b[39m] = \u001b[33mSome\u001b[39m(\u001b[33mPole\u001b[39m(\u001b[32m3\u001b[39m, \u001b[32m2\u001b[39m))"
      ]
     },
     "execution_count": 36,
     "metadata": {},
     "output_type": "execute_result"
    }
   ],
   "source": [
    "routine"
   ]
  },
  {
   "cell_type": "code",
   "execution_count": 37,
   "metadata": {},
   "outputs": [
    {
     "data": {
      "text/plain": [
       "defined \u001b[32mfunction\u001b[39m \u001b[36mroutine\u001b[39m"
      ]
     },
     "execution_count": 37,
     "metadata": {},
     "output_type": "execute_result"
    }
   ],
   "source": [
    "def routine: Option[Pole] =\n",
    "    for {\n",
    "        start <- Monad[Option].point(Pole(0, 0))\n",
    "        first <- start.landLeft(2)\n",
    "        _ <- (none: Option[Pole])\n",
    "        second <- first.landRight(2)\n",
    "        third <- second.landLeft(1)\n",
    "    } yield third"
   ]
  },
  {
   "cell_type": "code",
   "execution_count": 38,
   "metadata": {},
   "outputs": [
    {
     "data": {
      "text/plain": [
       "\u001b[36mres37\u001b[39m: \u001b[32mOption\u001b[39m[\u001b[32mPole\u001b[39m] = None"
      ]
     },
     "execution_count": 38,
     "metadata": {},
     "output_type": "execute_result"
    }
   ],
   "source": [
    "routine"
   ]
  },
  {
   "cell_type": "markdown",
   "metadata": {},
   "source": [
    "## パターンマッチングと失敗"
   ]
  },
  {
   "cell_type": "code",
   "execution_count": 39,
   "metadata": {},
   "outputs": [
    {
     "data": {
      "text/plain": [
       "defined \u001b[32mfunction\u001b[39m \u001b[36mjustH\u001b[39m"
      ]
     },
     "execution_count": 39,
     "metadata": {},
     "output_type": "execute_result"
    }
   ],
   "source": [
    "def justH: Option[Char] =\n",
    "    for {\n",
    "        (x :: xs) <- \"hello\".toList.some\n",
    "    } yield x"
   ]
  },
  {
   "cell_type": "code",
   "execution_count": 40,
   "metadata": {},
   "outputs": [
    {
     "data": {
      "text/plain": [
       "\u001b[36mres39\u001b[39m: \u001b[32mOption\u001b[39m[\u001b[32mChar\u001b[39m] = \u001b[33mSome\u001b[39m(\u001b[32m'h'\u001b[39m)"
      ]
     },
     "execution_count": 40,
     "metadata": {},
     "output_type": "execute_result"
    }
   ],
   "source": [
    "justH"
   ]
  },
  {
   "cell_type": "code",
   "execution_count": 41,
   "metadata": {},
   "outputs": [
    {
     "data": {
      "text/plain": [
       "defined \u001b[32mfunction\u001b[39m \u001b[36mwopwop\u001b[39m"
      ]
     },
     "execution_count": 41,
     "metadata": {},
     "output_type": "execute_result"
    }
   ],
   "source": [
    "def wopwop: Option[Char] =\n",
    "    for {\n",
    "        (x :: xs) <- \"\".toList.some\n",
    "    } yield x"
   ]
  },
  {
   "cell_type": "code",
   "execution_count": 42,
   "metadata": {},
   "outputs": [
    {
     "data": {
      "text/plain": [
       "\u001b[36mres41\u001b[39m: \u001b[32mOption\u001b[39m[\u001b[32mChar\u001b[39m] = None"
      ]
     },
     "execution_count": 42,
     "metadata": {},
     "output_type": "execute_result"
    }
   ],
   "source": [
    "wopwop"
   ]
  },
  {
   "cell_type": "markdown",
   "metadata": {},
   "source": [
    "## List モナド"
   ]
  },
  {
   "cell_type": "code",
   "execution_count": 43,
   "metadata": {},
   "outputs": [
    {
     "data": {
      "text/plain": [
       "\u001b[36mres42\u001b[39m: \u001b[32mList\u001b[39m[\u001b[32mInt\u001b[39m] = \u001b[33mList\u001b[39m(\u001b[32m10\u001b[39m, \u001b[32m100\u001b[39m, \u001b[32m100\u001b[39m, \u001b[32m20\u001b[39m, \u001b[32m200\u001b[39m, \u001b[32m200\u001b[39m, \u001b[32m30\u001b[39m, \u001b[32m300\u001b[39m, \u001b[32m300\u001b[39m)"
      ]
     },
     "execution_count": 43,
     "metadata": {},
     "output_type": "execute_result"
    }
   ],
   "source": [
    "^(List(1, 2, 3), List(10, 100, 100)) {_ * _}"
   ]
  },
  {
   "cell_type": "code",
   "execution_count": 44,
   "metadata": {},
   "outputs": [
    {
     "data": {
      "text/plain": [
       "\u001b[36mres43\u001b[39m: \u001b[32mList\u001b[39m[\u001b[32mInt\u001b[39m] = \u001b[33mList\u001b[39m(\u001b[32m3\u001b[39m, \u001b[32m-3\u001b[39m, \u001b[32m4\u001b[39m, \u001b[32m-4\u001b[39m, \u001b[32m5\u001b[39m, \u001b[32m-5\u001b[39m)"
      ]
     },
     "execution_count": 44,
     "metadata": {},
     "output_type": "execute_result"
    }
   ],
   "source": [
    "List(3, 4, 5) >>= {x => List(x, -x)}"
   ]
  },
  {
   "cell_type": "code",
   "execution_count": 45,
   "metadata": {},
   "outputs": [
    {
     "data": {
      "text/plain": [
       "\u001b[36mres44\u001b[39m: \u001b[32mList\u001b[39m[(\u001b[32mInt\u001b[39m, \u001b[32mChar\u001b[39m)] = \u001b[33mList\u001b[39m((\u001b[32m1\u001b[39m, \u001b[32m'a'\u001b[39m), (\u001b[32m1\u001b[39m, \u001b[32m'b'\u001b[39m), (\u001b[32m2\u001b[39m, \u001b[32m'a'\u001b[39m), (\u001b[32m2\u001b[39m, \u001b[32m'b'\u001b[39m))"
      ]
     },
     "execution_count": 45,
     "metadata": {},
     "output_type": "execute_result"
    }
   ],
   "source": [
    "for {\n",
    "    n <- List(1, 2)\n",
    "    ch <- List('a', 'b')\n",
    "} yield (n, ch)"
   ]
  },
  {
   "cell_type": "markdown",
   "metadata": {},
   "source": [
    "## MonadPlus と guard 関数"
   ]
  },
  {
   "cell_type": "code",
   "execution_count": 46,
   "metadata": {},
   "outputs": [
    {
     "data": {
      "text/plain": [
       "\u001b[36mres45\u001b[39m: \u001b[32mList\u001b[39m[\u001b[32mInt\u001b[39m] = \u001b[33mList\u001b[39m(\u001b[32m7\u001b[39m, \u001b[32m17\u001b[39m, \u001b[32m27\u001b[39m, \u001b[32m37\u001b[39m, \u001b[32m47\u001b[39m)"
      ]
     },
     "execution_count": 46,
     "metadata": {},
     "output_type": "execute_result"
    }
   ],
   "source": [
    "for {\n",
    "    x <- 1 |-> 50 if x.shows contains '7'\n",
    "} yield x"
   ]
  },
  {
   "cell_type": "markdown",
   "metadata": {},
   "source": [
    "## Plus、PlusEmpty、と ApplicativePlus"
   ]
  },
  {
   "cell_type": "code",
   "execution_count": 47,
   "metadata": {},
   "outputs": [
    {
     "data": {
      "text/plain": [
       "\u001b[36mres46\u001b[39m: \u001b[32mList\u001b[39m[\u001b[32mInt\u001b[39m] = \u001b[33mList\u001b[39m(\u001b[32m1\u001b[39m, \u001b[32m2\u001b[39m, \u001b[32m3\u001b[39m, \u001b[32m4\u001b[39m, \u001b[32m5\u001b[39m, \u001b[32m6\u001b[39m)"
      ]
     },
     "execution_count": 47,
     "metadata": {},
     "output_type": "execute_result"
    }
   ],
   "source": [
    "List(1, 2, 3) <+> List(4, 5, 6)"
   ]
  },
  {
   "cell_type": "markdown",
   "metadata": {},
   "source": [
    "## MonadPlus 再び"
   ]
  },
  {
   "cell_type": "code",
   "execution_count": 48,
   "metadata": {},
   "outputs": [
    {
     "data": {
      "text/plain": [
       "\u001b[36mres47\u001b[39m: \u001b[32mList\u001b[39m[\u001b[32mInt\u001b[39m] = \u001b[33mList\u001b[39m(\u001b[32m7\u001b[39m, \u001b[32m17\u001b[39m, \u001b[32m27\u001b[39m, \u001b[32m37\u001b[39m, \u001b[32m47\u001b[39m)"
      ]
     },
     "execution_count": 48,
     "metadata": {},
     "output_type": "execute_result"
    }
   ],
   "source": [
    "(1 |-> 50) filter { x => x.shows contains '7' }"
   ]
  },
  {
   "cell_type": "markdown",
   "metadata": {},
   "source": [
    "## 騎士の旅"
   ]
  },
  {
   "cell_type": "code",
   "execution_count": 49,
   "metadata": {},
   "outputs": [
    {
     "data": {
      "text/plain": [
       "defined \u001b[32mclass\u001b[39m \u001b[36mKnightPos\u001b[39m"
      ]
     },
     "execution_count": 49,
     "metadata": {},
     "output_type": "execute_result"
    }
   ],
   "source": [
    "case class KnightPos(c: Int, r: Int)"
   ]
  },
  {
   "cell_type": "code",
   "execution_count": 50,
   "metadata": {},
   "outputs": [
    {
     "data": {
      "text/plain": [
       "defined \u001b[32mclass\u001b[39m \u001b[36mKnightPos\u001b[39m"
      ]
     },
     "execution_count": 50,
     "metadata": {},
     "output_type": "execute_result"
    }
   ],
   "source": [
    "case class KnightPos(c: Int, r: Int) {\n",
    "    def move: List[KnightPos] =\n",
    "        for {\n",
    "            KnightPos(c2, r2) <- List(KnightPos(c + 2, r - 1), KnightPos(c + 2, r + 1),\n",
    "                KnightPos(c - 2, r - 1), KnightPos(c - 2, r + 1),\n",
    "                KnightPos(c + 1, r - 2), KnightPos(c + 1, r + 2),\n",
    "                KnightPos(c - 1, r - 2), KnightPos(c - 1, r + 2)) if (\n",
    "                ((1 |-> 8) contains c2) && ((1 |-> 8) contains r2))\n",
    "        } yield KnightPos(c2, r2)\n",
    "    }"
   ]
  },
  {
   "cell_type": "code",
   "execution_count": 51,
   "metadata": {},
   "outputs": [
    {
     "data": {
      "text/plain": [
       "\u001b[36mres50\u001b[39m: \u001b[32mList\u001b[39m[\u001b[32mKnightPos\u001b[39m] = \u001b[33mList\u001b[39m(\n",
       "  \u001b[33mKnightPos\u001b[39m(\u001b[32m8\u001b[39m, \u001b[32m1\u001b[39m),\n",
       "  \u001b[33mKnightPos\u001b[39m(\u001b[32m8\u001b[39m, \u001b[32m3\u001b[39m),\n",
       "  \u001b[33mKnightPos\u001b[39m(\u001b[32m4\u001b[39m, \u001b[32m1\u001b[39m),\n",
       "  \u001b[33mKnightPos\u001b[39m(\u001b[32m4\u001b[39m, \u001b[32m3\u001b[39m),\n",
       "  \u001b[33mKnightPos\u001b[39m(\u001b[32m7\u001b[39m, \u001b[32m4\u001b[39m),\n",
       "  \u001b[33mKnightPos\u001b[39m(\u001b[32m5\u001b[39m, \u001b[32m4\u001b[39m)\n",
       ")"
      ]
     },
     "execution_count": 51,
     "metadata": {},
     "output_type": "execute_result"
    }
   ],
   "source": [
    "KnightPos(6, 2).move"
   ]
  },
  {
   "cell_type": "code",
   "execution_count": 52,
   "metadata": {},
   "outputs": [
    {
     "data": {
      "text/plain": [
       "\u001b[36mres51\u001b[39m: \u001b[32mList\u001b[39m[\u001b[32mKnightPos\u001b[39m] = \u001b[33mList\u001b[39m(\u001b[33mKnightPos\u001b[39m(\u001b[32m6\u001b[39m, \u001b[32m2\u001b[39m), \u001b[33mKnightPos\u001b[39m(\u001b[32m7\u001b[39m, \u001b[32m3\u001b[39m))"
      ]
     },
     "execution_count": 52,
     "metadata": {},
     "output_type": "execute_result"
    }
   ],
   "source": [
    "KnightPos(8, 1).move"
   ]
  },
  {
   "cell_type": "code",
   "execution_count": 53,
   "metadata": {},
   "outputs": [
    {
     "data": {
      "text/plain": [
       "defined \u001b[32mclass\u001b[39m \u001b[36mKnightPos\u001b[39m"
      ]
     },
     "execution_count": 53,
     "metadata": {},
     "output_type": "execute_result"
    }
   ],
   "source": [
    "case class KnightPos(c: Int, r: Int) {\n",
    "    def move: List[KnightPos] =\n",
    "        for {\n",
    "            KnightPos(c2, r2) <- List(KnightPos(c + 2, r - 1), KnightPos(c + 2, r + 1),\n",
    "            KnightPos(c - 2, r - 1), KnightPos(c - 2, r + 1),\n",
    "            KnightPos(c + 1, r - 2), KnightPos(c + 1, r + 2),\n",
    "            KnightPos(c - 1, r - 2), KnightPos(c - 1, r + 2)) if (\n",
    "            ((1 |-> 8) element c2) && ((1 |-> 8) contains r2))\n",
    "        } yield KnightPos(c2, r2)\n",
    "    def in3: List[KnightPos] =\n",
    "        for {\n",
    "            first <- move\n",
    "            second <- first.move\n",
    "            third <- second.move\n",
    "        } yield third\n",
    "    def canReachIn3(end: KnightPos): Boolean = in3 contains end\n",
    "}"
   ]
  },
  {
   "cell_type": "code",
   "execution_count": 54,
   "metadata": {},
   "outputs": [
    {
     "data": {
      "text/plain": [
       "\u001b[36mres53\u001b[39m: \u001b[32mBoolean\u001b[39m = \u001b[32mtrue\u001b[39m"
      ]
     },
     "execution_count": 54,
     "metadata": {},
     "output_type": "execute_result"
    }
   ],
   "source": [
    "KnightPos(6, 2) canReachIn3 KnightPos(6, 1)"
   ]
  },
  {
   "cell_type": "code",
   "execution_count": 55,
   "metadata": {},
   "outputs": [
    {
     "data": {
      "text/plain": [
       "\u001b[36mres54\u001b[39m: \u001b[32mBoolean\u001b[39m = \u001b[32mfalse\u001b[39m"
      ]
     },
     "execution_count": 55,
     "metadata": {},
     "output_type": "execute_result"
    }
   ],
   "source": [
    "KnightPos(6, 2) canReachIn3 KnightPos(7, 3)"
   ]
  },
  {
   "cell_type": "markdown",
   "metadata": {},
   "source": [
    "## Monad則"
   ]
  },
  {
   "cell_type": "markdown",
   "metadata": {},
   "source": [
    "### 左単位元"
   ]
  },
  {
   "cell_type": "code",
   "execution_count": 55,
   "metadata": {},
   "outputs": [
    {
     "name": "stderr",
     "output_type": "stream",
     "text": [
      "cmd55.sc:1: type mismatch;\n",
      " found   : Int(3)\n",
      " required: ?{def |>: ?}\n",
      "Note that implicit conversions are not applicable because they are ambiguous:\n",
      " both method Pipeable in trait Extensions of type [T](t: T)ammonite.ops.Pipeable[T]\n",
      " and method ToIdOps in trait ToIdOps of type [A](a: A)scalaz.syntax.IdOps[A]\n",
      " are possible conversion functions from Int(3) to ?{def |>: ?}\n",
      "val res55 = (Monad[Option].point(3) >>= { x => (x + 100000).some }) assert_=== 3 |> { x => (x + 100000).some }\n",
      "                                                                               ^"
     ]
    },
    {
     "ename": "",
     "evalue": "",
     "output_type": "error",
     "traceback": [
      "Compilation Failed"
     ]
    }
   ],
   "source": [
    "(Monad[Option].point(3) >>= { x => (x + 100000).some }) assert_=== 3 |> { x => (x + 100000).some }"
   ]
  },
  {
   "cell_type": "markdown",
   "metadata": {},
   "source": [
    "### 右単位元"
   ]
  },
  {
   "cell_type": "code",
   "execution_count": 56,
   "metadata": {},
   "outputs": [],
   "source": [
    "(\"move on up\".some flatMap {Monad[Option].point(_)}) assert_=== \"move on up\".some"
   ]
  },
  {
   "cell_type": "markdown",
   "metadata": {},
   "source": [
    "### 結合律"
   ]
  },
  {
   "cell_type": "code",
   "execution_count": 57,
   "metadata": {},
   "outputs": [
    {
     "data": {
      "text/plain": [
       "\u001b[36mres56\u001b[39m: \u001b[32mOption\u001b[39m[\u001b[32mPole\u001b[39m] = \u001b[33mSome\u001b[39m(\u001b[33mPole\u001b[39m(\u001b[32m2\u001b[39m, \u001b[32m4\u001b[39m))"
      ]
     },
     "execution_count": 57,
     "metadata": {},
     "output_type": "execute_result"
    }
   ],
   "source": [
    "Monad[Option].point(Pole(0, 0)) >>= {_.landRight(2)} >>= {_.landLeft(2)} >>= {_.landRight(2)}"
   ]
  },
  {
   "cell_type": "code",
   "execution_count": 58,
   "metadata": {},
   "outputs": [
    {
     "data": {
      "text/plain": [
       "\u001b[36mres57\u001b[39m: \u001b[32mOption\u001b[39m[\u001b[32mPole\u001b[39m] = \u001b[33mSome\u001b[39m(\u001b[33mPole\u001b[39m(\u001b[32m2\u001b[39m, \u001b[32m4\u001b[39m))"
      ]
     },
     "execution_count": 58,
     "metadata": {},
     "output_type": "execute_result"
    }
   ],
   "source": [
    "Monad[Option].point(Pole(0, 0)) >>= { x =>\n",
    "    x.landRight(2) >>= { y =>\n",
    "    y.landLeft(2) >>= { z =>\n",
    "    z.landRight(2)\n",
    "    }}}"
   ]
  },
  {
   "cell_type": "code",
   "execution_count": 59,
   "metadata": {},
   "outputs": [
    {
     "name": "stdout",
     "output_type": "stream",
     "text": [
      "+ monad.applicative.apply.functor.invariantFunctor.identity: OK, passed 100\n",
      "   tests.\n",
      "+ monad.applicative.apply.functor.invariantFunctor.composite: OK, passed 10\n",
      "  0 tests.\n",
      "+ monad.applicative.apply.functor.identity: OK, passed 100 tests.\n",
      "+ monad.applicative.apply.functor.composite: OK, passed 100 tests.\n",
      "+ monad.applicative.apply.composition: OK, passed 100 tests.\n",
      "+ monad.applicative.identity: OK, passed 100 tests.\n",
      "+ monad.applicative.homomorphism: OK, passed 100 tests.\n",
      "+ monad.applicative.interchange: OK, passed 100 tests.\n",
      "+ monad.applicative.map consistent with ap: OK, passed 100 tests.\n",
      "+ monad.bind.apply.functor.invariantFunctor.identity: OK, passed 100 tests.\n",
      "+ monad.bind.apply.functor.invariantFunctor.composite: OK, passed 100 tests\n",
      "  .\n",
      "+ monad.bind.apply.functor.identity: OK, passed 100 tests.\n",
      "+ monad.bind.apply.functor.composite: OK, passed 100 tests.\n",
      "+ monad.bind.apply.composition: OK, passed 100 tests.\n",
      "+ monad.bind.associativity: OK, passed 100 tests.\n",
      "+ monad.bind.ap consistent with bind: OK, passed 100 tests.\n",
      "+ monad.right identity: OK, passed 100 tests.\n",
      "+ monad.left identity: OK, passed 100 tests.\n"
     ]
    }
   ],
   "source": [
    "monad.laws[Option].check"
   ]
  }
 ],
 "metadata": {
  "kernelspec": {
   "display_name": "Scala v2.12.2",
   "language": "scala",
   "name": "scala"
  },
  "language_info": {
   "codemirror_mode": "text/x-scala",
   "file_extension": ".scala",
   "mimetype": "text/x-scala",
   "name": "scala212",
   "nbconvert_exporter": "script",
   "pygments_lexer": "scala",
   "version": "2.12.2"
  }
 },
 "nbformat": 4,
 "nbformat_minor": 2
}
