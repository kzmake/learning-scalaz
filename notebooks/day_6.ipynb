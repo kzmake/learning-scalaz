{
 "cells": [
  {
   "cell_type": "markdown",
   "metadata": {},
   "source": [
    "# Day 6"
   ]
  },
  {
   "cell_type": "code",
   "execution_count": 3,
   "metadata": {},
   "outputs": [
    {
     "data": {
      "text/plain": [
       "\u001b[32mimport \u001b[39m\u001b[36m$ivy.$                               \n",
       "\u001b[39m\n",
       "\u001b[32mimport \u001b[39m\u001b[36mscalaz._\n",
       "\u001b[39m\n",
       "\u001b[32mimport \u001b[39m\u001b[36mScalaz._\u001b[39m"
      ]
     },
     "execution_count": 3,
     "metadata": {},
     "output_type": "execute_result"
    }
   ],
   "source": [
    "import $ivy.`org.scalaz::scalaz-core:7.2.22`\n",
    "import scalaz._\n",
    "import Scalaz._"
   ]
  },
  {
   "cell_type": "markdown",
   "metadata": {},
   "source": [
    "## Writer? 中の人なんていません!"
   ]
  },
  {
   "cell_type": "code",
   "execution_count": 4,
   "metadata": {},
   "outputs": [
    {
     "data": {
      "text/plain": [
       "defined \u001b[32mfunction\u001b[39m \u001b[36misBigGang\u001b[39m"
      ]
     },
     "execution_count": 4,
     "metadata": {},
     "output_type": "execute_result"
    }
   ],
   "source": [
    "def isBigGang(x: Int): (Boolean, String) =\n",
    "    (x > 9, \"Compared gang size to 9.\")"
   ]
  },
  {
   "cell_type": "code",
   "execution_count": 5,
   "metadata": {},
   "outputs": [
    {
     "data": {
      "text/plain": [
       "defined \u001b[32mclass\u001b[39m \u001b[36mPairOps\u001b[39m"
      ]
     },
     "execution_count": 5,
     "metadata": {},
     "output_type": "execute_result"
    }
   ],
   "source": [
    "implicit class PairOps[A](pair: (A, String)) {\n",
    "    def applyLog[B](f: A => (B, String)): (B, String) = {\n",
    "        val (x, log) = pair\n",
    "        val (y, newlog) = f(x)\n",
    "        (y, log ++ newlog)\n",
    "    }\n",
    "}"
   ]
  },
  {
   "cell_type": "code",
   "execution_count": 6,
   "metadata": {},
   "outputs": [
    {
     "data": {
      "text/plain": [
       "\u001b[36mres5\u001b[39m: (\u001b[32mBoolean\u001b[39m, \u001b[32mString\u001b[39m) = (\u001b[32mfalse\u001b[39m, \u001b[32m\"Smallish gang.Compared gang size to 9.\"\u001b[39m)"
      ]
     },
     "execution_count": 6,
     "metadata": {},
     "output_type": "execute_result"
    }
   ],
   "source": [
    "(3, \"Smallish gang.\") applyLog isBigGang"
   ]
  },
  {
   "cell_type": "code",
   "execution_count": 7,
   "metadata": {},
   "outputs": [
    {
     "data": {
      "text/plain": [
       "defined \u001b[32mclass\u001b[39m \u001b[36mPairOps\u001b[39m"
      ]
     },
     "execution_count": 7,
     "metadata": {},
     "output_type": "execute_result"
    }
   ],
   "source": [
    "implicit class PairOps[A, B: Monoid](pair: (A, B)) {\n",
    "    def applyLog[C](f: A => (C, B)): (C, B) = {\n",
    "        val (x, log) = pair\n",
    "        val (y, newlog) = f(x)\n",
    "        (y, log |+| newlog)\n",
    "    }\n",
    "}"
   ]
  },
  {
   "cell_type": "code",
   "execution_count": 8,
   "metadata": {},
   "outputs": [
    {
     "data": {
      "text/plain": [
       "\u001b[36mres7\u001b[39m: (\u001b[32mBoolean\u001b[39m, \u001b[32mString\u001b[39m) = (\u001b[32mfalse\u001b[39m, \u001b[32m\"Smallish gang.Compared gang size to 9.\"\u001b[39m)"
      ]
     },
     "execution_count": 8,
     "metadata": {},
     "output_type": "execute_result"
    }
   ],
   "source": [
    "(3, \"Smallish gang.\") applyLog isBigGang"
   ]
  },
  {
   "cell_type": "markdown",
   "metadata": {},
   "source": [
    "## Writer"
   ]
  },
  {
   "cell_type": "markdown",
   "metadata": {},
   "source": [
    "```scala\n",
    "type Writer[+W, +A] = WriterT[Id, W, A]\n",
    "```"
   ]
  },
  {
   "cell_type": "markdown",
   "metadata": {},
   "source": [
    "## WriterT"
   ]
  },
  {
   "cell_type": "markdown",
   "metadata": {},
   "source": [
    "```scala\n",
    "sealed trait WriterT[F[+_], +W, +A] { self =>\n",
    "  val run: F[(W, A)]\n",
    "\n",
    "  def written(implicit F: Functor[F]): F[W] =\n",
    "    F.map(run)(_._1)\n",
    "  def value(implicit F: Functor[F]): F[A] =\n",
    "    F.map(run)(_._2)\n",
    "}\n",
    "```"
   ]
  },
  {
   "cell_type": "code",
   "execution_count": 9,
   "metadata": {},
   "outputs": [
    {
     "data": {
      "text/plain": [
       "\u001b[36mres8\u001b[39m: \u001b[32mWriter\u001b[39m[\u001b[32mString\u001b[39m, \u001b[32mInt\u001b[39m] = \u001b[33mWriterT\u001b[39m((\u001b[32m\"Smallish gang.\"\u001b[39m, \u001b[32m3\u001b[39m))"
      ]
     },
     "execution_count": 9,
     "metadata": {},
     "output_type": "execute_result"
    }
   ],
   "source": [
    "3.set(\"Smallish gang.\")"
   ]
  },
  {
   "cell_type": "code",
   "execution_count": 10,
   "metadata": {},
   "outputs": [
    {
     "data": {
      "text/plain": [
       "\u001b[36mres9\u001b[39m: \u001b[32mWriter\u001b[39m[\u001b[32mString\u001b[39m, \u001b[32mInt\u001b[39m] = \u001b[33mWriterT\u001b[39m((\u001b[32m\"something\"\u001b[39m, \u001b[32m3\u001b[39m))"
      ]
     },
     "execution_count": 10,
     "metadata": {},
     "output_type": "execute_result"
    }
   ],
   "source": [
    "3.set(\"something\")"
   ]
  },
  {
   "cell_type": "code",
   "execution_count": 11,
   "metadata": {},
   "outputs": [
    {
     "data": {
      "text/plain": [
       "\u001b[36mres10\u001b[39m: \u001b[32mWriter\u001b[39m[\u001b[32mString\u001b[39m, \u001b[32mUnit\u001b[39m] = \u001b[33mWriterT\u001b[39m((\u001b[32m\"something\"\u001b[39m, \u001b[32m()\u001b[39m))"
      ]
     },
     "execution_count": 11,
     "metadata": {},
     "output_type": "execute_result"
    }
   ],
   "source": [
    "\"something\".tell"
   ]
  },
  {
   "cell_type": "code",
   "execution_count": 11,
   "metadata": {},
   "outputs": [
    {
     "name": "stderr",
     "output_type": "stream",
     "text": [
      "cmd11.sc:1: scalaz.Writer takes two type parameters, expected: one\n",
      "val res11 = MonadTell[Writer, String]\n",
      "                      ^"
     ]
    },
    {
     "ename": "",
     "evalue": "",
     "output_type": "error",
     "traceback": [
      "Compilation Failed"
     ]
    }
   ],
   "source": [
    "MonadTell[Writer, String]"
   ]
  },
  {
   "cell_type": "code",
   "execution_count": 11,
   "metadata": {},
   "outputs": [
    {
     "name": "stderr",
     "output_type": "stream",
     "text": [
      "cmd11.sc:1: scalaz.Writer takes two type parameters, expected: one\n",
      "val res11 = MonadTell[Writer, String]\n",
      "                      ^"
     ]
    },
    {
     "ename": "",
     "evalue": "",
     "output_type": "error",
     "traceback": [
      "Compilation Failed"
     ]
    }
   ],
   "source": [
    "MonadTell[Writer, String]"
   ]
  },
  {
   "cell_type": "markdown",
   "metadata": {},
   "source": [
    "## Writer に for 構文を使う"
   ]
  },
  {
   "cell_type": "code",
   "execution_count": 12,
   "metadata": {},
   "outputs": [
    {
     "data": {
      "text/plain": [
       "defined \u001b[32mfunction\u001b[39m \u001b[36mlogNumber\u001b[39m"
      ]
     },
     "execution_count": 12,
     "metadata": {},
     "output_type": "execute_result"
    }
   ],
   "source": [
    "def logNumber(x: Int): Writer[List[String], Int] =\n",
    "    x.set(List(\"Got number: \" + x.shows))"
   ]
  },
  {
   "cell_type": "code",
   "execution_count": 13,
   "metadata": {},
   "outputs": [
    {
     "data": {
      "text/plain": [
       "defined \u001b[32mfunction\u001b[39m \u001b[36mmultWithLog\u001b[39m"
      ]
     },
     "execution_count": 13,
     "metadata": {},
     "output_type": "execute_result"
    }
   ],
   "source": [
    "def multWithLog: Writer[List[String], Int] = for {\n",
    "    a <- logNumber(3)\n",
    "    b <- logNumber(5)\n",
    "} yield a * b"
   ]
  },
  {
   "cell_type": "code",
   "execution_count": 14,
   "metadata": {},
   "outputs": [
    {
     "data": {
      "text/plain": [
       "\u001b[36mres13\u001b[39m: (\u001b[32mList\u001b[39m[\u001b[32mString\u001b[39m], \u001b[32mInt\u001b[39m) = (\u001b[33mList\u001b[39m(\u001b[32m\"Got number: 3\"\u001b[39m, \u001b[32m\"Got number: 5\"\u001b[39m), \u001b[32m15\u001b[39m)"
      ]
     },
     "execution_count": 14,
     "metadata": {},
     "output_type": "execute_result"
    }
   ],
   "source": [
    "multWithLog.run"
   ]
  },
  {
   "cell_type": "markdown",
   "metadata": {},
   "source": [
    "## プログラムにログを追加する"
   ]
  },
  {
   "cell_type": "code",
   "execution_count": 15,
   "metadata": {},
   "outputs": [
    {
     "data": {
      "text/plain": [
       "defined \u001b[32mfunction\u001b[39m \u001b[36mgcd\u001b[39m"
      ]
     },
     "execution_count": 15,
     "metadata": {},
     "output_type": "execute_result"
    }
   ],
   "source": [
    "def gcd(a: Int, b: Int): Writer[List[String], Int] =\n",
    "    if (b == 0) for {\n",
    "        _ <- List(\"Finished with \" + a.shows).tell\n",
    "        } yield a\n",
    "    else\n",
    "        List(a.shows + \" mod \" + b.shows + \" = \" + (a % b).shows).tell >>= { _ =>\n",
    "            gcd(b, a % b)\n",
    "        }"
   ]
  },
  {
   "cell_type": "code",
   "execution_count": 16,
   "metadata": {},
   "outputs": [
    {
     "data": {
      "text/plain": [
       "\u001b[36mres15\u001b[39m: (\u001b[32mList\u001b[39m[\u001b[32mString\u001b[39m], \u001b[32mInt\u001b[39m) = (\u001b[33mList\u001b[39m(\u001b[32m\"8 mod 3 = 2\"\u001b[39m, \u001b[32m\"3 mod 2 = 1\"\u001b[39m, \u001b[32m\"2 mod 1 = 0\"\u001b[39m, \u001b[32m\"Finished with 1\"\u001b[39m), \u001b[32m1\u001b[39m)"
      ]
     },
     "execution_count": 16,
     "metadata": {},
     "output_type": "execute_result"
    }
   ],
   "source": [
    "gcd(8, 3).run"
   ]
  },
  {
   "cell_type": "markdown",
   "metadata": {},
   "source": [
    "## 非効率な List の構築"
   ]
  },
  {
   "cell_type": "code",
   "execution_count": 17,
   "metadata": {},
   "outputs": [
    {
     "data": {
      "text/plain": [
       "\u001b[36mres16\u001b[39m: \u001b[32mMonoid\u001b[39m[\u001b[32mVector\u001b[39m[\u001b[32mString\u001b[39m]] = scalaz.std.VectorInstances$$anon$4@78cb01f7"
      ]
     },
     "execution_count": 17,
     "metadata": {},
     "output_type": "execute_result"
    }
   ],
   "source": [
    "Monoid[Vector[String]]"
   ]
  },
  {
   "cell_type": "code",
   "execution_count": 19,
   "metadata": {},
   "outputs": [
    {
     "data": {
      "text/plain": [
       "defined \u001b[32mfunction\u001b[39m \u001b[36mgcd\u001b[39m"
      ]
     },
     "execution_count": 19,
     "metadata": {},
     "output_type": "execute_result"
    }
   ],
   "source": [
    "def gcd(a: Int, b: Int): Writer[Vector[String], Int] =\n",
    "    if (b == 0) for {\n",
    "            _ <- Vector(\"Finished with \" + a.shows).tell\n",
    "        } yield a\n",
    "    else for {\n",
    "            result <- gcd(b, a % b)\n",
    "            _ <- Vector(a.shows + \" mod \" + b.shows + \" = \" + (a % b).shows).tell\n",
    "        } yield result"
   ]
  },
  {
   "cell_type": "code",
   "execution_count": 20,
   "metadata": {},
   "outputs": [
    {
     "data": {
      "text/plain": [
       "\u001b[36mres19\u001b[39m: (\u001b[32mVector\u001b[39m[\u001b[32mString\u001b[39m], \u001b[32mInt\u001b[39m) = (\u001b[33mVector\u001b[39m(\u001b[32m\"Finished with 1\"\u001b[39m, \u001b[32m\"2 mod 1 = 0\"\u001b[39m, \u001b[32m\"3 mod 2 = 1\"\u001b[39m, \u001b[32m\"8 mod 3 = 2\"\u001b[39m), \u001b[32m1\u001b[39m)"
      ]
     },
     "execution_count": 20,
     "metadata": {},
     "output_type": "execute_result"
    }
   ],
   "source": [
    "gcd(8, 3).run"
   ]
  },
  {
   "cell_type": "markdown",
   "metadata": {},
   "source": [
    "## 性能の比較"
   ]
  },
  {
   "cell_type": "code",
   "execution_count": 21,
   "metadata": {},
   "outputs": [
    {
     "data": {
      "text/plain": [
       "defined \u001b[32mfunction\u001b[39m \u001b[36mvectorFinalCountDown\u001b[39m\n",
       "defined \u001b[32mfunction\u001b[39m \u001b[36mlistFinalCountDown\u001b[39m"
      ]
     },
     "execution_count": 21,
     "metadata": {},
     "output_type": "execute_result"
    }
   ],
   "source": [
    "def vectorFinalCountDown(x: Int): Writer[Vector[String], Unit] = {\n",
    "  import annotation.tailrec\n",
    "  @tailrec def doFinalCountDown(x: Int, w: Writer[Vector[String], Unit]): Writer[Vector[String], Unit] = x match {\n",
    "    case 0 => w >>= { _ => Vector(\"0\").tell }\n",
    "    case x => doFinalCountDown(x - 1, w >>= { _ =>\n",
    "      Vector(x.shows).tell\n",
    "    })\n",
    "  }\n",
    "  val t0 = System.currentTimeMillis\n",
    "  val r = doFinalCountDown(x, Vector[String]().tell)\n",
    "  val t1 = System.currentTimeMillis\n",
    "  r >>= { _ => Vector((t1 - t0).shows + \" msec\").tell }\n",
    "}\n",
    "\n",
    "def listFinalCountDown(x: Int): Writer[List[String], Unit] = {\n",
    "  import annotation.tailrec\n",
    "  @tailrec def doFinalCountDown(x: Int, w: Writer[List[String], Unit]): Writer[List[String], Unit] = x match {\n",
    "    case 0 => w >>= { _ => List(\"0\").tell }\n",
    "    case x => doFinalCountDown(x - 1, w >>= { _ =>\n",
    "      List(x.shows).tell\n",
    "    })\n",
    "  }\n",
    "  val t0 = System.currentTimeMillis\n",
    "  val r = doFinalCountDown(x, List[String]().tell)\n",
    "  val t1 = System.currentTimeMillis\n",
    "  r >>= { _ => List((t1 - t0).shows + \" msec\").tell }\n",
    "}"
   ]
  },
  {
   "cell_type": "code",
   "execution_count": 23,
   "metadata": {},
   "outputs": [
    {
     "data": {
      "text/plain": [
       "\u001b[36mres\u001b[39m: (\u001b[32mVector\u001b[39m[\u001b[32mString\u001b[39m], \u001b[32mUnit\u001b[39m) = (\n",
       "  \u001b[33mVector\u001b[39m(\n",
       "    \u001b[32m\"10000\"\u001b[39m,\n",
       "    \u001b[32m\"9999\"\u001b[39m,\n",
       "    \u001b[32m\"9998\"\u001b[39m,\n",
       "    \u001b[32m\"9997\"\u001b[39m,\n",
       "    \u001b[32m\"9996\"\u001b[39m,\n",
       "    \u001b[32m\"9995\"\u001b[39m,\n",
       "    \u001b[32m\"9994\"\u001b[39m,\n",
       "    \u001b[32m\"9993\"\u001b[39m,\n",
       "    \u001b[32m\"9992\"\u001b[39m,\n",
       "    \u001b[32m\"9991\"\u001b[39m,\n",
       "\u001b[33m...\u001b[39m"
      ]
     },
     "execution_count": 23,
     "metadata": {},
     "output_type": "execute_result"
    }
   ],
   "source": [
    "val res = vectorFinalCountDown(10000).run"
   ]
  },
  {
   "cell_type": "code",
   "execution_count": 24,
   "metadata": {},
   "outputs": [
    {
     "data": {
      "text/plain": [
       "\u001b[36mres23\u001b[39m: \u001b[32mString\u001b[39m = \u001b[32m\"11 msec\"\u001b[39m"
      ]
     },
     "execution_count": 24,
     "metadata": {},
     "output_type": "execute_result"
    }
   ],
   "source": [
    "res._1.last"
   ]
  },
  {
   "cell_type": "code",
   "execution_count": 25,
   "metadata": {},
   "outputs": [
    {
     "data": {
      "text/plain": [
       "\u001b[36mres\u001b[39m: (\u001b[32mList\u001b[39m[\u001b[32mString\u001b[39m], \u001b[32mUnit\u001b[39m) = (\n",
       "  \u001b[33mList\u001b[39m(\n",
       "    \u001b[32m\"10000\"\u001b[39m,\n",
       "    \u001b[32m\"9999\"\u001b[39m,\n",
       "    \u001b[32m\"9998\"\u001b[39m,\n",
       "    \u001b[32m\"9997\"\u001b[39m,\n",
       "    \u001b[32m\"9996\"\u001b[39m,\n",
       "    \u001b[32m\"9995\"\u001b[39m,\n",
       "    \u001b[32m\"9994\"\u001b[39m,\n",
       "    \u001b[32m\"9993\"\u001b[39m,\n",
       "    \u001b[32m\"9992\"\u001b[39m,\n",
       "    \u001b[32m\"9991\"\u001b[39m,\n",
       "\u001b[33m...\u001b[39m"
      ]
     },
     "execution_count": 25,
     "metadata": {},
     "output_type": "execute_result"
    }
   ],
   "source": [
    "val res = listFinalCountDown(10000).run"
   ]
  },
  {
   "cell_type": "code",
   "execution_count": 26,
   "metadata": {},
   "outputs": [
    {
     "data": {
      "text/plain": [
       "\u001b[36mres25\u001b[39m: \u001b[32mString\u001b[39m = \u001b[32m\"2564 msec\"\u001b[39m"
      ]
     },
     "execution_count": 26,
     "metadata": {},
     "output_type": "execute_result"
    }
   ],
   "source": [
    "res._1.last"
   ]
  },
  {
   "cell_type": "markdown",
   "metadata": {},
   "source": [
    "## Reader"
   ]
  },
  {
   "cell_type": "code",
   "execution_count": 27,
   "metadata": {},
   "outputs": [
    {
     "data": {
      "text/plain": [
       "\u001b[36mf\u001b[39m: \u001b[32mInt\u001b[39m => \u001b[32mInt\u001b[39m = $sess.cmd26Wrapper$Helper$$Lambda$3435/592239235@68d7622e"
      ]
     },
     "execution_count": 27,
     "metadata": {},
     "output_type": "execute_result"
    }
   ],
   "source": [
    "val f = (_: Int) * 5"
   ]
  },
  {
   "cell_type": "code",
   "execution_count": 29,
   "metadata": {
    "scrolled": true
   },
   "outputs": [
    {
     "data": {
      "text/plain": [
       "\u001b[36mg\u001b[39m: \u001b[32mInt\u001b[39m => \u001b[32mInt\u001b[39m = $sess.cmd28Wrapper$Helper$$Lambda$3446/1796858192@59f1b270"
      ]
     },
     "execution_count": 29,
     "metadata": {},
     "output_type": "execute_result"
    }
   ],
   "source": [
    "val g = (_: Int) + 3"
   ]
  },
  {
   "cell_type": "code",
   "execution_count": 30,
   "metadata": {},
   "outputs": [
    {
     "data": {
      "text/plain": [
       "\u001b[36mres29\u001b[39m: \u001b[32mInt\u001b[39m = \u001b[32m55\u001b[39m"
      ]
     },
     "execution_count": 30,
     "metadata": {},
     "output_type": "execute_result"
    }
   ],
   "source": [
    "(g map f)(8)"
   ]
  },
  {
   "cell_type": "code",
   "execution_count": 31,
   "metadata": {},
   "outputs": [
    {
     "data": {
      "text/plain": [
       "\u001b[36mf\u001b[39m: \u001b[32mInt\u001b[39m => \u001b[32mInt\u001b[39m = scalaz.std.FunctionInstances$$anon$3$$Lambda$3453/109899854@598cedb7"
      ]
     },
     "execution_count": 31,
     "metadata": {},
     "output_type": "execute_result"
    }
   ],
   "source": [
    "val f = ({(_: Int) * 2} |@| {(_: Int) + 10}) {_ + _}"
   ]
  },
  {
   "cell_type": "code",
   "execution_count": 32,
   "metadata": {},
   "outputs": [
    {
     "data": {
      "text/plain": [
       "\u001b[36mres31\u001b[39m: \u001b[32mInt\u001b[39m = \u001b[32m19\u001b[39m"
      ]
     },
     "execution_count": 32,
     "metadata": {},
     "output_type": "execute_result"
    }
   ],
   "source": [
    "f(3)"
   ]
  },
  {
   "cell_type": "code",
   "execution_count": 33,
   "metadata": {},
   "outputs": [
    {
     "data": {
      "text/plain": [
       "\u001b[36maddStuff\u001b[39m: \u001b[32mInt\u001b[39m => \u001b[32mInt\u001b[39m = scalaz.std.FunctionInstances$$anon$3$$Lambda$3453/109899854@2ceee38d"
      ]
     },
     "execution_count": 33,
     "metadata": {},
     "output_type": "execute_result"
    }
   ],
   "source": [
    "val addStuff: Int => Int = for {\n",
    "    a <- (_: Int) * 2\n",
    "    b <- (_: Int) + 10\n",
    "} yield a + b"
   ]
  },
  {
   "cell_type": "code",
   "execution_count": 34,
   "metadata": {},
   "outputs": [
    {
     "data": {
      "text/plain": [
       "\u001b[36mres33\u001b[39m: \u001b[32mInt\u001b[39m = \u001b[32m19\u001b[39m"
      ]
     },
     "execution_count": 34,
     "metadata": {},
     "output_type": "execute_result"
    }
   ],
   "source": [
    "addStuff(3)"
   ]
  }
 ],
 "metadata": {
  "kernelspec": {
   "display_name": "Scala v2.12.2",
   "language": "scala",
   "name": "scala"
  },
  "language_info": {
   "codemirror_mode": "text/x-scala",
   "file_extension": ".scala",
   "mimetype": "text/x-scala",
   "name": "scala212",
   "nbconvert_exporter": "script",
   "pygments_lexer": "scala",
   "version": "2.12.2"
  }
 },
 "nbformat": 4,
 "nbformat_minor": 2
}
