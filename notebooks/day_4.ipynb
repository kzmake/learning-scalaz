{
 "cells": [
  {
   "cell_type": "markdown",
   "metadata": {},
   "source": [
    "# Day 4"
   ]
  },
  {
   "cell_type": "code",
   "execution_count": 1,
   "metadata": {},
   "outputs": [
    {
     "data": {
      "text/plain": [
       "\u001b[32mimport \u001b[39m\u001b[36m$ivy.$                               \n",
       "\u001b[39m\n",
       "\u001b[32mimport \u001b[39m\u001b[36m$ivy.$                                 \n",
       "\u001b[39m\n",
       "\u001b[32mimport \u001b[39m\u001b[36m$ivy.$                                    \n",
       "\u001b[39m\n",
       "\u001b[32mimport \u001b[39m\u001b[36m$ivy.$                                             \n",
       "\u001b[39m\n",
       "\u001b[32mimport \u001b[39m\u001b[36mscalaz._\n",
       "\u001b[39m\n",
       "\u001b[32mimport \u001b[39m\u001b[36mScalaz._\n",
       "\u001b[39m\n",
       "\u001b[32mimport \u001b[39m\u001b[36mscalacheck.ScalazProperties._\n",
       "\u001b[39m\n",
       "\u001b[32mimport \u001b[39m\u001b[36mscalacheck.ScalazArbitrary._\n",
       "\u001b[39m\n",
       "\u001b[32mimport \u001b[39m\u001b[36mscalacheck.ScalaCheckBinding._\u001b[39m"
      ]
     },
     "execution_count": 1,
     "metadata": {},
     "output_type": "execute_result"
    }
   ],
   "source": [
    "import $ivy.`org.scalaz::scalaz-core:7.2.22`\n",
    "import $ivy.`org.scalaz::scalaz-effect:7.2.22`\n",
    "import $ivy.`org.scalaz::scalaz-typelevel:7.1.17`\n",
    "import $ivy.`org.scalaz::scalaz-scalacheck-binding:7.2.21`\n",
    "import scalaz._\n",
    "import Scalaz._\n",
    "import scalacheck.ScalazProperties._\n",
    "import scalacheck.ScalazArbitrary._\n",
    "import scalacheck.ScalaCheckBinding._"
   ]
  },
  {
   "cell_type": "markdown",
   "metadata": {},
   "source": [
    "## Functor則"
   ]
  },
  {
   "cell_type": "code",
   "execution_count": 2,
   "metadata": {},
   "outputs": [],
   "source": [
    "List(1, 2, 3) map {identity} assert_=== List(1, 2, 3)"
   ]
  },
  {
   "cell_type": "code",
   "execution_count": 3,
   "metadata": {},
   "outputs": [],
   "source": [
    "(List(1, 2, 3) map {{(_: Int) * 3} map {(_: Int) + 1}}) assert_=== (List(1, 2, 3) map {(_: Int) * 3} map {(_: Int) + 1})"
   ]
  },
  {
   "cell_type": "code",
   "execution_count": 4,
   "metadata": {},
   "outputs": [
    {
     "name": "stdout",
     "output_type": "stream",
     "text": [
      "+ functor.invariantFunctor.identity: OK, passed 100 tests.\n",
      "+ functor.invariantFunctor.composite: OK, passed 100 tests.\n",
      "+ functor.identity: OK, passed 100 tests.\n",
      "+ functor.composite: OK, passed 100 tests.\n"
     ]
    }
   ],
   "source": [
    "functor.laws[List].check"
   ]
  },
  {
   "cell_type": "markdown",
   "metadata": {},
   "source": [
    "## 法則を破る"
   ]
  },
  {
   "cell_type": "code",
   "execution_count": 5,
   "metadata": {},
   "outputs": [
    {
     "data": {
      "text/plain": [
       "defined \u001b[32mtrait\u001b[39m \u001b[36mCOption\u001b[39m\n",
       "defined \u001b[32mclass\u001b[39m \u001b[36mCSome\u001b[39m\n",
       "defined \u001b[32mobject\u001b[39m \u001b[36mCNone\u001b[39m\n",
       "defined \u001b[32mfunction\u001b[39m \u001b[36mcoptionEqual\u001b[39m\n",
       "\u001b[36mcoptionFunctor\u001b[39m: \u001b[32mAnyRef\u001b[39m with \u001b[32mFunctor\u001b[39m[\u001b[32mCOption\u001b[39m] = $sess.cmd4Wrapper$Helper$$anon$1@d874d5c"
      ]
     },
     "execution_count": 5,
     "metadata": {},
     "output_type": "execute_result"
    }
   ],
   "source": [
    "sealed trait COption[+A] {}\n",
    "case class CSome[A](counter: Int, a: A) extends COption[A]\n",
    "case object CNone extends COption[Nothing]\n",
    "\n",
    "implicit def coptionEqual[A]: Equal[COption[A]] = Equal.equalA\n",
    "implicit val coptionFunctor = new Functor[COption] {\n",
    "    def map[A, B](fa: COption[A])(f: A => B): COption[B] = fa match {\n",
    "        case CNone => CNone\n",
    "        case CSome(c, a) => CSome(c + 1, f(a))\n",
    "    }\n",
    "}"
   ]
  },
  {
   "cell_type": "code",
   "execution_count": 6,
   "metadata": {},
   "outputs": [
    {
     "data": {
      "text/plain": [
       "\u001b[36mres5\u001b[39m: \u001b[32mCOption\u001b[39m[\u001b[32mString\u001b[39m] = CSome(1,hoha)"
      ]
     },
     "execution_count": 6,
     "metadata": {},
     "output_type": "execute_result"
    }
   ],
   "source": [
    "(CSome(0, \"ho\"): COption[String]) map {(_: String) + \"ha\"}"
   ]
  },
  {
   "cell_type": "code",
   "execution_count": 7,
   "metadata": {},
   "outputs": [
    {
     "data": {
      "text/plain": [
       "\u001b[36mres6\u001b[39m: \u001b[32mCOption\u001b[39m[\u001b[32mString\u001b[39m] = CSome(1,ho)"
      ]
     },
     "execution_count": 7,
     "metadata": {},
     "output_type": "execute_result"
    }
   ],
   "source": [
    "(CSome(0, \"ho\"): COption[String]) map {identity}"
   ]
  },
  {
   "cell_type": "code",
   "execution_count": 7,
   "metadata": {},
   "outputs": [
    {
     "name": "stderr",
     "output_type": "stream",
     "text": [
      "cmd7.sc:1: could not find implicit value for parameter af: org.scalacheck.Arbitrary[cmd7Wrapper.this.cmd4.wrapper.COption[Int]]\n",
      "val res7 = functor.laws[COption].check()\n",
      "                       ^"
     ]
    },
    {
     "ename": "",
     "evalue": "",
     "output_type": "error",
     "traceback": [
      "Compilation Failed"
     ]
    }
   ],
   "source": [
    "functor.laws[COption].check()"
   ]
  },
  {
   "cell_type": "code",
   "execution_count": 8,
   "metadata": {},
   "outputs": [
    {
     "data": {
      "text/plain": [
       "\u001b[32mimport \u001b[39m\u001b[36morg.scalacheck.Gen\n",
       "\u001b[39m\n",
       "\u001b[32mimport \u001b[39m\u001b[36morg.scalacheck.Arbitrary\u001b[39m"
      ]
     },
     "execution_count": 8,
     "metadata": {},
     "output_type": "execute_result"
    }
   ],
   "source": [
    "import org.scalacheck.Gen\n",
    "import org.scalacheck.Arbitrary"
   ]
  },
  {
   "cell_type": "code",
   "execution_count": 9,
   "metadata": {},
   "outputs": [
    {
     "data": {
      "text/plain": [
       "defined \u001b[32mfunction\u001b[39m \u001b[36mCOptionArbiterary\u001b[39m"
      ]
     },
     "execution_count": 9,
     "metadata": {},
     "output_type": "execute_result"
    }
   ],
   "source": [
    "implicit def COptionArbiterary[A](implicit a: Arbitrary[A]): Arbitrary[COption[A]] =\n",
    "    a map { a => (CSome(0, a): COption[A]) }"
   ]
  },
  {
   "cell_type": "code",
   "execution_count": 10,
   "metadata": {},
   "outputs": [
    {
     "name": "stdout",
     "output_type": "stream",
     "text": [
      "! functor.invariantFunctor.identity: Falsified after 0 passed tests.\n",
      "> ARG_0: CSome(0,-1)\n",
      "! functor.invariantFunctor.composite: Falsified after 0 passed tests.\n",
      "> ARG_0: CSome(0,1)\n",
      "> ARG_1: org.scalacheck.ArbitraryArities$$Lambda$3016/1183814913@aa955f0\n",
      "> ARG_2: org.scalacheck.ArbitraryArities$$Lambda$3016/1183814913@1eeaac3f\n",
      "> ARG_3: org.scalacheck.ArbitraryArities$$Lambda$3016/1183814913@44baac20\n",
      "> ARG_4: org.scalacheck.ArbitraryArities$$Lambda$3016/1183814913@3ccc17e3\n",
      "! functor.identity: Falsified after 0 passed tests.\n",
      "> ARG_0: CSome(0,1569514195)\n",
      "! functor.composite: Falsified after 0 passed tests.\n",
      "> ARG_0: CSome(0,2147483647)\n",
      "> ARG_1: org.scalacheck.ArbitraryArities$$Lambda$3016/1183814913@37ca03b5\n",
      "> ARG_2: org.scalacheck.ArbitraryArities$$Lambda$3016/1183814913@268072c0\n"
     ]
    }
   ],
   "source": [
    "functor.laws[COption].check"
   ]
  },
  {
   "cell_type": "markdown",
   "metadata": {},
   "source": [
    "## Applicative則"
   ]
  },
  {
   "cell_type": "markdown",
   "metadata": {},
   "source": [
    "```scala\n",
    "trait ApplicativeLaw extends FunctorLaw {\n",
    "    def identityAp[A](fa: F[A])(implicit FA: Equal[F[A]]): Boolean =\n",
    "        FA.equal(ap(fa)(point((a: A) => a)), fa)\n",
    "\n",
    "    def composition[A, B, C](fbc: F[B => C], fab: F[A => B], fa: F[A])(implicit FC: Equal[F[C]]) =\n",
    "        FC.equal(ap(ap(fa)(fab))(fbc), ap(fa)(ap(fab)(ap(fbc)(point((bc: B => C) => (ab: A => B) => bc compose ab)))))\n",
    "\n",
    "    def homomorphism[A, B](ab: A => B, a: A)(implicit FB: Equal[F[B]]): Boolean =\n",
    "        FB.equal(ap(point(a))(point(ab)), point(ab(a)))\n",
    "\n",
    "    def interchange[A, B](f: F[A => B], a: A)(implicit FB: Equal[F[B]]): Boolean =\n",
    "        FB.equal(ap(point(a))(f), ap(f)(point((f: A => B) => f(a))))\n",
    "}\n",
    "```"
   ]
  },
  {
   "cell_type": "markdown",
   "metadata": {},
   "source": [
    "## Semigroup則"
   ]
  },
  {
   "cell_type": "markdown",
   "metadata": {},
   "source": [
    "```scala\n",
    "trait SemigroupLaw {\n",
    "    def associative(f1: F, f2: F, f3: F)(implicit F: Equal[F]): Boolean =\n",
    "        F.equal(append(f1, append(f2, f3)), append(append(f1, f2), f3))\n",
    "}\n",
    "```"
   ]
  },
  {
   "cell_type": "code",
   "execution_count": 11,
   "metadata": {},
   "outputs": [
    {
     "name": "stdout",
     "output_type": "stream",
     "text": [
      "\r",
      "+ semigroup.associative: OK, passed 100 tests.\n"
     ]
    }
   ],
   "source": [
    "semigroup.laws[Int @@ Tags.Multiplication].check"
   ]
  },
  {
   "cell_type": "markdown",
   "metadata": {},
   "source": [
    "## Monoid則"
   ]
  },
  {
   "cell_type": "markdown",
   "metadata": {},
   "source": [
    "```scala\n",
    "  /**\n",
    "   * Monoid instances must satisfy [[scalaz.Semigroup.SemigroupLaw]] and 2 additional laws:\n",
    "   *\n",
    "   *  - '''left identity''': `forall a. append(zero, a) == a`\n",
    "   *  - '''right identity''' : `forall a. append(a, zero) == a`\n",
    "   */\n",
    "  trait MonoidLaw extends SemigroupLaw {\n",
    "    def leftIdentity(a: F)(implicit F: Equal[F]) = F.equal(a, append(zero, a))\n",
    "    def rightIdentity(a: F)(implicit F: Equal[F]) = F.equal(a, append(a, zero))\n",
    "  }\n",
    "```"
   ]
  },
  {
   "cell_type": "code",
   "execution_count": 12,
   "metadata": {},
   "outputs": [],
   "source": [
    "1 * 2 assert_=== 2"
   ]
  },
  {
   "cell_type": "code",
   "execution_count": 13,
   "metadata": {},
   "outputs": [],
   "source": [
    "2 * 1 assert_=== 2"
   ]
  },
  {
   "cell_type": "code",
   "execution_count": 13,
   "metadata": {},
   "outputs": [
    {
     "name": "stderr",
     "output_type": "stream",
     "text": [
      "cmd13.sc:1: type mismatch;\n",
      " found   : Int @@ scalaz.Tags.Multiplication\n",
      "    (which expands to)  AnyRef{type Tag = scalaz.Tags.Multiplication; type Self = Int}\n",
      " required: Int\n",
      "val res13 = (Monoid[Int @@ Tags.Multiplication].zero |+| Tags.Multiplication(2): Int) assert_=== 2\n",
      "                                                     ^"
     ]
    },
    {
     "ename": "",
     "evalue": "",
     "output_type": "error",
     "traceback": [
      "Compilation Failed"
     ]
    }
   ],
   "source": [
    "(Monoid[Int @@ Tags.Multiplication].zero |+| Tags.Multiplication(2): Int) assert_=== 2"
   ]
  },
  {
   "cell_type": "code",
   "execution_count": 13,
   "metadata": {},
   "outputs": [
    {
     "name": "stderr",
     "output_type": "stream",
     "text": [
      "cmd13.sc:1: type mismatch;\n",
      " found   : Int @@ scalaz.Tags.Multiplication\n",
      "    (which expands to)  AnyRef{type Tag = scalaz.Tags.Multiplication; type Self = Int}\n",
      " required: Int\n",
      "val res13 = (Tags.Multiplication(2) |+| Monoid[Int @@ Tags.Multiplication].zero: Int) assert_=== 2\n",
      "                                    ^"
     ]
    },
    {
     "ename": "",
     "evalue": "",
     "output_type": "error",
     "traceback": [
      "Compilation Failed"
     ]
    }
   ],
   "source": [
    "(Tags.Multiplication(2) |+| Monoid[Int @@ Tags.Multiplication].zero: Int) assert_=== 2"
   ]
  },
  {
   "cell_type": "code",
   "execution_count": 14,
   "metadata": {},
   "outputs": [
    {
     "name": "stdout",
     "output_type": "stream",
     "text": [
      "+ monoid.semigroup.associative: OK, passed 100 tests.\n",
      "+ monoid.left identity: OK, passed 100 tests.\n",
      "+ monoid.right identity: OK, passed 100 tests.\n"
     ]
    }
   ],
   "source": [
    "monoid.laws[(Int @@ Tags.Multiplication)].check"
   ]
  },
  {
   "cell_type": "markdown",
   "metadata": {},
   "source": [
    "## Monoid としての Option"
   ]
  },
  {
   "cell_type": "markdown",
   "metadata": {},
   "source": [
    "```scala\n",
    "  implicit def optionMonoid[A: Semigroup]: Monoid[Option[A]] = new Monoid[Option[A]] {\n",
    "    def append(f1: Option[A], f2: => Option[A]) = (f1, f2) match {\n",
    "      case (Some(a1), Some(a2)) => Some(Semigroup[A].append(a1, a2))\n",
    "      case (Some(a1), None)     => f1\n",
    "      case (None, Some(a2))     => f2\n",
    "      case (None, None)         => None\n",
    "    }\n",
    "\n",
    "    def zero: Option[A] = None\n",
    "  }\n",
    "```"
   ]
  },
  {
   "cell_type": "code",
   "execution_count": 15,
   "metadata": {},
   "outputs": [
    {
     "data": {
      "text/plain": [
       "\u001b[36mres14\u001b[39m: \u001b[32mOption\u001b[39m[\u001b[32mString\u001b[39m] = \u001b[33mSome\u001b[39m(\u001b[32m\"andy\"\u001b[39m)"
      ]
     },
     "execution_count": 15,
     "metadata": {},
     "output_type": "execute_result"
    }
   ],
   "source": [
    "(none: Option[String]) |+| \"andy\".some"
   ]
  },
  {
   "cell_type": "code",
   "execution_count": 16,
   "metadata": {},
   "outputs": [
    {
     "data": {
      "text/plain": [
       "\u001b[36mres15\u001b[39m: \u001b[32mOption\u001b[39m[\u001b[32mOrdering\u001b[39m] = \u001b[33mSome\u001b[39m(LT)"
      ]
     },
     "execution_count": 16,
     "metadata": {},
     "output_type": "execute_result"
    }
   ],
   "source": [
    "(Ordering.LT: Ordering).some |+| none"
   ]
  },
  {
   "cell_type": "code",
   "execution_count": 17,
   "metadata": {},
   "outputs": [
    {
     "data": {
      "text/plain": [
       "\u001b[36mres16\u001b[39m: \u001b[32mOption\u001b[39m[\u001b[32mChar\u001b[39m] \u001b[32m@@\u001b[39m \u001b[32mTags\u001b[39m.\u001b[32mFirst\u001b[39m = Some(a)"
      ]
     },
     "execution_count": 17,
     "metadata": {},
     "output_type": "execute_result"
    }
   ],
   "source": [
    "Tags.First('a'.some) |+| Tags.First('b'.some)"
   ]
  },
  {
   "cell_type": "code",
   "execution_count": 18,
   "metadata": {},
   "outputs": [
    {
     "data": {
      "text/plain": [
       "\u001b[36mres17\u001b[39m: \u001b[32mOption\u001b[39m[\u001b[32mChar\u001b[39m] \u001b[32m@@\u001b[39m \u001b[32mTags\u001b[39m.\u001b[32mFirst\u001b[39m = Some(b)"
      ]
     },
     "execution_count": 18,
     "metadata": {},
     "output_type": "execute_result"
    }
   ],
   "source": [
    "Tags.First(none: Option[Char]) |+| Tags.First('b'.some)"
   ]
  },
  {
   "cell_type": "code",
   "execution_count": 19,
   "metadata": {},
   "outputs": [
    {
     "data": {
      "text/plain": [
       "\u001b[36mres18\u001b[39m: \u001b[32mOption\u001b[39m[\u001b[32mChar\u001b[39m] \u001b[32m@@\u001b[39m \u001b[32mTags\u001b[39m.\u001b[32mFirst\u001b[39m = Some(a)"
      ]
     },
     "execution_count": 19,
     "metadata": {},
     "output_type": "execute_result"
    }
   ],
   "source": [
    "Tags.First('a'.some) |+| Tags.First(none: Option[Char])"
   ]
  },
  {
   "cell_type": "code",
   "execution_count": 20,
   "metadata": {},
   "outputs": [
    {
     "data": {
      "text/plain": [
       "\u001b[36mres19\u001b[39m: \u001b[32mOption\u001b[39m[\u001b[32mChar\u001b[39m] \u001b[32m@@\u001b[39m \u001b[32mTags\u001b[39m.\u001b[32mLast\u001b[39m = Some(b)"
      ]
     },
     "execution_count": 20,
     "metadata": {},
     "output_type": "execute_result"
    }
   ],
   "source": [
    "Tags.Last('a'.some) |+| Tags.Last('b'.some)"
   ]
  },
  {
   "cell_type": "code",
   "execution_count": 21,
   "metadata": {},
   "outputs": [
    {
     "data": {
      "text/plain": [
       "\u001b[36mres20\u001b[39m: \u001b[32mOption\u001b[39m[\u001b[32mChar\u001b[39m] \u001b[32m@@\u001b[39m \u001b[32mTags\u001b[39m.\u001b[32mLast\u001b[39m = Some(b)"
      ]
     },
     "execution_count": 21,
     "metadata": {},
     "output_type": "execute_result"
    }
   ],
   "source": [
    "Tags.Last(none: Option[Char]) |+| Tags.Last('b'.some)"
   ]
  },
  {
   "cell_type": "code",
   "execution_count": 22,
   "metadata": {},
   "outputs": [
    {
     "data": {
      "text/plain": [
       "\u001b[36mres21\u001b[39m: \u001b[32mOption\u001b[39m[\u001b[32mChar\u001b[39m] \u001b[32m@@\u001b[39m \u001b[32mTags\u001b[39m.\u001b[32mLast\u001b[39m = Some(a)"
      ]
     },
     "execution_count": 22,
     "metadata": {},
     "output_type": "execute_result"
    }
   ],
   "source": [
    "Tags.Last('a'.some) |+| Tags.Last(none: Option[Char])"
   ]
  },
  {
   "cell_type": "markdown",
   "metadata": {},
   "source": [
    "## Foldable"
   ]
  },
  {
   "cell_type": "markdown",
   "metadata": {},
   "source": [
    "```scala\n",
    "trait Foldable[F[_]] { self =>\n",
    "  /** Map each element of the structure to a [[scalaz.Monoid]], and combine the results. */\n",
    "  def foldMap[A,B](fa: F[A])(f: A => B)(implicit F: Monoid[B]): B\n",
    "\n",
    "  /**Right-associative fold of a structure. */\n",
    "  def foldRight[A, B](fa: F[A], z: => B)(f: (A, => B) => B): B\n",
    "\n",
    "  ...\n",
    "}\n",
    "```"
   ]
  },
  {
   "cell_type": "code",
   "execution_count": 23,
   "metadata": {},
   "outputs": [
    {
     "data": {
      "text/plain": [
       "\u001b[36mres22\u001b[39m: \u001b[32mInt\u001b[39m = \u001b[32m6\u001b[39m"
      ]
     },
     "execution_count": 23,
     "metadata": {},
     "output_type": "execute_result"
    }
   ],
   "source": [
    "List(1, 2, 3).foldRight (1) {_ * _}"
   ]
  },
  {
   "cell_type": "code",
   "execution_count": 24,
   "metadata": {},
   "outputs": [
    {
     "data": {
      "text/plain": [
       "\u001b[36mres23\u001b[39m: \u001b[32mInt\u001b[39m = \u001b[32m11\u001b[39m"
      ]
     },
     "execution_count": 24,
     "metadata": {},
     "output_type": "execute_result"
    }
   ],
   "source": [
    "9.some.foldLeft(2) {_ + _}"
   ]
  },
  {
   "cell_type": "code",
   "execution_count": 25,
   "metadata": {},
   "outputs": [
    {
     "data": {
      "text/plain": [
       "\u001b[36mres24\u001b[39m: \u001b[32mInt\u001b[39m = \u001b[32m6\u001b[39m"
      ]
     },
     "execution_count": 25,
     "metadata": {},
     "output_type": "execute_result"
    }
   ],
   "source": [
    "List(1, 2, 3) foldMap {identity}"
   ]
  },
  {
   "cell_type": "code",
   "execution_count": 26,
   "metadata": {},
   "outputs": [
    {
     "data": {
      "text/plain": [
       "\u001b[36mres25\u001b[39m: \u001b[32mBoolean\u001b[39m \u001b[32m@@\u001b[39m \u001b[32mTags\u001b[39m.\u001b[32mDisjunction\u001b[39m = true"
      ]
     },
     "execution_count": 26,
     "metadata": {},
     "output_type": "execute_result"
    }
   ],
   "source": [
    "List(true, false, true, true) foldMap {Tags.Disjunction.apply}"
   ]
  }
 ],
 "metadata": {
  "kernelspec": {
   "display_name": "Scala v2.12.2",
   "language": "scala",
   "name": "scala"
  },
  "language_info": {
   "codemirror_mode": "text/x-scala",
   "file_extension": ".scala",
   "mimetype": "text/x-scala",
   "name": "scala212",
   "nbconvert_exporter": "script",
   "pygments_lexer": "scala",
   "version": "2.12.2"
  }
 },
 "nbformat": 4,
 "nbformat_minor": 2
}
